{
 "cells": [
  {
   "cell_type": "code",
   "execution_count": 45,
   "metadata": {},
   "outputs": [],
   "source": [
    "import pandas as pd\n",
    "import numpy as np\n",
    "from tqdm import tqdm\n",
    "import collections\n",
    "import hashlib\n",
    "import timeit\n",
    "\n",
    "import plotly.express as px \n",
    "import matplotlib.pyplot as plt\n",
    "from scipy import stats as sts\n",
    "from IPython.display import display"
   ]
  },
  {
   "cell_type": "code",
   "execution_count": 29,
   "metadata": {},
   "outputs": [],
   "source": [
    "interactions = pd.read_csv('data/interactions.csv')\n",
    "users = pd.read_csv('data/users.csv')\n",
    "items = pd.read_csv('data/items.csv')"
   ]
  },
  {
   "cell_type": "code",
   "execution_count": 30,
   "metadata": {},
   "outputs": [],
   "source": [
    "def headtail(df):\n",
    "    display(pd.concat([df.head(), df.tail()]))"
   ]
  },
  {
   "cell_type": "code",
   "execution_count": 31,
   "metadata": {},
   "outputs": [
    {
     "data": {
      "text/html": [
       "<div>\n",
       "<style scoped>\n",
       "    .dataframe tbody tr th:only-of-type {\n",
       "        vertical-align: middle;\n",
       "    }\n",
       "\n",
       "    .dataframe tbody tr th {\n",
       "        vertical-align: top;\n",
       "    }\n",
       "\n",
       "    .dataframe thead th {\n",
       "        text-align: right;\n",
       "    }\n",
       "</style>\n",
       "<table border=\"1\" class=\"dataframe\">\n",
       "  <thead>\n",
       "    <tr style=\"text-align: right;\">\n",
       "      <th></th>\n",
       "      <th>user_id</th>\n",
       "      <th>item_id</th>\n",
       "      <th>last_watch_dt</th>\n",
       "      <th>total_dur</th>\n",
       "      <th>watched_pct</th>\n",
       "    </tr>\n",
       "  </thead>\n",
       "  <tbody>\n",
       "    <tr>\n",
       "      <th>0</th>\n",
       "      <td>176549</td>\n",
       "      <td>9506</td>\n",
       "      <td>2021-05-11</td>\n",
       "      <td>4250</td>\n",
       "      <td>72.0</td>\n",
       "    </tr>\n",
       "    <tr>\n",
       "      <th>1</th>\n",
       "      <td>699317</td>\n",
       "      <td>1659</td>\n",
       "      <td>2021-05-29</td>\n",
       "      <td>8317</td>\n",
       "      <td>100.0</td>\n",
       "    </tr>\n",
       "    <tr>\n",
       "      <th>2</th>\n",
       "      <td>656683</td>\n",
       "      <td>7107</td>\n",
       "      <td>2021-05-09</td>\n",
       "      <td>10</td>\n",
       "      <td>0.0</td>\n",
       "    </tr>\n",
       "    <tr>\n",
       "      <th>3</th>\n",
       "      <td>864613</td>\n",
       "      <td>7638</td>\n",
       "      <td>2021-07-05</td>\n",
       "      <td>14483</td>\n",
       "      <td>100.0</td>\n",
       "    </tr>\n",
       "    <tr>\n",
       "      <th>4</th>\n",
       "      <td>964868</td>\n",
       "      <td>9506</td>\n",
       "      <td>2021-04-30</td>\n",
       "      <td>6725</td>\n",
       "      <td>100.0</td>\n",
       "    </tr>\n",
       "    <tr>\n",
       "      <th>5476246</th>\n",
       "      <td>648596</td>\n",
       "      <td>12225</td>\n",
       "      <td>2021-08-13</td>\n",
       "      <td>76</td>\n",
       "      <td>0.0</td>\n",
       "    </tr>\n",
       "    <tr>\n",
       "      <th>5476247</th>\n",
       "      <td>546862</td>\n",
       "      <td>9673</td>\n",
       "      <td>2021-04-13</td>\n",
       "      <td>2308</td>\n",
       "      <td>49.0</td>\n",
       "    </tr>\n",
       "    <tr>\n",
       "      <th>5476248</th>\n",
       "      <td>697262</td>\n",
       "      <td>15297</td>\n",
       "      <td>2021-08-20</td>\n",
       "      <td>18307</td>\n",
       "      <td>63.0</td>\n",
       "    </tr>\n",
       "    <tr>\n",
       "      <th>5476249</th>\n",
       "      <td>384202</td>\n",
       "      <td>16197</td>\n",
       "      <td>2021-04-19</td>\n",
       "      <td>6203</td>\n",
       "      <td>100.0</td>\n",
       "    </tr>\n",
       "    <tr>\n",
       "      <th>5476250</th>\n",
       "      <td>319709</td>\n",
       "      <td>4436</td>\n",
       "      <td>2021-08-15</td>\n",
       "      <td>3921</td>\n",
       "      <td>45.0</td>\n",
       "    </tr>\n",
       "  </tbody>\n",
       "</table>\n",
       "</div>"
      ],
      "text/plain": [
       "         user_id  item_id last_watch_dt  total_dur  watched_pct\n",
       "0         176549     9506    2021-05-11       4250         72.0\n",
       "1         699317     1659    2021-05-29       8317        100.0\n",
       "2         656683     7107    2021-05-09         10          0.0\n",
       "3         864613     7638    2021-07-05      14483        100.0\n",
       "4         964868     9506    2021-04-30       6725        100.0\n",
       "5476246   648596    12225    2021-08-13         76          0.0\n",
       "5476247   546862     9673    2021-04-13       2308         49.0\n",
       "5476248   697262    15297    2021-08-20      18307         63.0\n",
       "5476249   384202    16197    2021-04-19       6203        100.0\n",
       "5476250   319709     4436    2021-08-15       3921         45.0"
      ]
     },
     "metadata": {},
     "output_type": "display_data"
    }
   ],
   "source": [
    "headtail(interactions)"
   ]
  },
  {
   "cell_type": "code",
   "execution_count": 32,
   "metadata": {},
   "outputs": [
    {
     "data": {
      "text/plain": [
       "user_id            int64\n",
       "item_id            int64\n",
       "last_watch_dt     object\n",
       "total_dur          int64\n",
       "watched_pct      float64\n",
       "dtype: object"
      ]
     },
     "execution_count": 32,
     "metadata": {},
     "output_type": "execute_result"
    }
   ],
   "source": [
    "interactions.dtypes"
   ]
  },
  {
   "cell_type": "code",
   "execution_count": 33,
   "metadata": {},
   "outputs": [],
   "source": [
    "interactions['last_watch_dt'] = pd.to_datetime(interactions['last_watch_dt'])"
   ]
  },
  {
   "cell_type": "markdown",
   "metadata": {},
   "source": [
    "## 1. Из interactions взять данные за 2 последние недели (2021-08-09 по 2021-08-22)"
   ]
  },
  {
   "cell_type": "code",
   "execution_count": 37,
   "metadata": {},
   "outputs": [],
   "source": [
    "two_week_interactions = interactions[(interactions['last_watch_dt'] >= \"2021-08-09\") & \n",
    "                                     (interactions[\"last_watch_dt\"] <= \"2021-08-22\")].copy()"
   ]
  },
  {
   "cell_type": "code",
   "execution_count": 38,
   "metadata": {},
   "outputs": [
    {
     "data": {
      "text/html": [
       "<div>\n",
       "<style scoped>\n",
       "    .dataframe tbody tr th:only-of-type {\n",
       "        vertical-align: middle;\n",
       "    }\n",
       "\n",
       "    .dataframe tbody tr th {\n",
       "        vertical-align: top;\n",
       "    }\n",
       "\n",
       "    .dataframe thead th {\n",
       "        text-align: right;\n",
       "    }\n",
       "</style>\n",
       "<table border=\"1\" class=\"dataframe\">\n",
       "  <thead>\n",
       "    <tr style=\"text-align: right;\">\n",
       "      <th></th>\n",
       "      <th>user_id</th>\n",
       "      <th>item_id</th>\n",
       "      <th>last_watch_dt</th>\n",
       "      <th>total_dur</th>\n",
       "      <th>watched_pct</th>\n",
       "    </tr>\n",
       "  </thead>\n",
       "  <tbody>\n",
       "    <tr>\n",
       "      <th>6</th>\n",
       "      <td>1016458</td>\n",
       "      <td>354</td>\n",
       "      <td>2021-08-14</td>\n",
       "      <td>1672</td>\n",
       "      <td>25.0</td>\n",
       "    </tr>\n",
       "    <tr>\n",
       "      <th>9</th>\n",
       "      <td>203219</td>\n",
       "      <td>13582</td>\n",
       "      <td>2021-08-22</td>\n",
       "      <td>6975</td>\n",
       "      <td>100.0</td>\n",
       "    </tr>\n",
       "    <tr>\n",
       "      <th>22</th>\n",
       "      <td>505244</td>\n",
       "      <td>15297</td>\n",
       "      <td>2021-08-15</td>\n",
       "      <td>15991</td>\n",
       "      <td>63.0</td>\n",
       "    </tr>\n",
       "    <tr>\n",
       "      <th>24</th>\n",
       "      <td>916352</td>\n",
       "      <td>12846</td>\n",
       "      <td>2021-08-12</td>\n",
       "      <td>1812</td>\n",
       "      <td>30.0</td>\n",
       "    </tr>\n",
       "    <tr>\n",
       "      <th>30</th>\n",
       "      <td>1057871</td>\n",
       "      <td>6208</td>\n",
       "      <td>2021-08-12</td>\n",
       "      <td>5033</td>\n",
       "      <td>95.0</td>\n",
       "    </tr>\n",
       "    <tr>\n",
       "      <th>...</th>\n",
       "      <td>...</td>\n",
       "      <td>...</td>\n",
       "      <td>...</td>\n",
       "      <td>...</td>\n",
       "      <td>...</td>\n",
       "    </tr>\n",
       "    <tr>\n",
       "      <th>5476215</th>\n",
       "      <td>204332</td>\n",
       "      <td>2081</td>\n",
       "      <td>2021-08-10</td>\n",
       "      <td>822</td>\n",
       "      <td>14.0</td>\n",
       "    </tr>\n",
       "    <tr>\n",
       "      <th>5476222</th>\n",
       "      <td>1007900</td>\n",
       "      <td>9728</td>\n",
       "      <td>2021-08-12</td>\n",
       "      <td>416</td>\n",
       "      <td>6.0</td>\n",
       "    </tr>\n",
       "    <tr>\n",
       "      <th>5476246</th>\n",
       "      <td>648596</td>\n",
       "      <td>12225</td>\n",
       "      <td>2021-08-13</td>\n",
       "      <td>76</td>\n",
       "      <td>0.0</td>\n",
       "    </tr>\n",
       "    <tr>\n",
       "      <th>5476248</th>\n",
       "      <td>697262</td>\n",
       "      <td>15297</td>\n",
       "      <td>2021-08-20</td>\n",
       "      <td>18307</td>\n",
       "      <td>63.0</td>\n",
       "    </tr>\n",
       "    <tr>\n",
       "      <th>5476250</th>\n",
       "      <td>319709</td>\n",
       "      <td>4436</td>\n",
       "      <td>2021-08-15</td>\n",
       "      <td>3921</td>\n",
       "      <td>45.0</td>\n",
       "    </tr>\n",
       "  </tbody>\n",
       "</table>\n",
       "<p>827089 rows × 5 columns</p>\n",
       "</div>"
      ],
      "text/plain": [
       "         user_id  item_id last_watch_dt  total_dur  watched_pct\n",
       "6        1016458      354    2021-08-14       1672         25.0\n",
       "9         203219    13582    2021-08-22       6975        100.0\n",
       "22        505244    15297    2021-08-15      15991         63.0\n",
       "24        916352    12846    2021-08-12       1812         30.0\n",
       "30       1057871     6208    2021-08-12       5033         95.0\n",
       "...          ...      ...           ...        ...          ...\n",
       "5476215   204332     2081    2021-08-10        822         14.0\n",
       "5476222  1007900     9728    2021-08-12        416          6.0\n",
       "5476246   648596    12225    2021-08-13         76          0.0\n",
       "5476248   697262    15297    2021-08-20      18307         63.0\n",
       "5476250   319709     4436    2021-08-15       3921         45.0\n",
       "\n",
       "[827089 rows x 5 columns]"
      ]
     },
     "execution_count": 38,
     "metadata": {},
     "output_type": "execute_result"
    }
   ],
   "source": [
    "two_week_interactions"
   ]
  },
  {
   "cell_type": "code",
   "execution_count": 61,
   "metadata": {},
   "outputs": [
    {
     "data": {
      "text/html": [
       "<div>\n",
       "<style scoped>\n",
       "    .dataframe tbody tr th:only-of-type {\n",
       "        vertical-align: middle;\n",
       "    }\n",
       "\n",
       "    .dataframe tbody tr th {\n",
       "        vertical-align: top;\n",
       "    }\n",
       "\n",
       "    .dataframe thead th {\n",
       "        text-align: right;\n",
       "    }\n",
       "</style>\n",
       "<table border=\"1\" class=\"dataframe\">\n",
       "  <thead>\n",
       "    <tr style=\"text-align: right;\">\n",
       "      <th></th>\n",
       "      <th>user_id</th>\n",
       "      <th>item_id</th>\n",
       "      <th>last_watch_dt</th>\n",
       "      <th>total_dur</th>\n",
       "      <th>watched_pct</th>\n",
       "    </tr>\n",
       "  </thead>\n",
       "  <tbody>\n",
       "    <tr>\n",
       "      <th>0</th>\n",
       "      <td>176549</td>\n",
       "      <td>9506</td>\n",
       "      <td>2021-05-11</td>\n",
       "      <td>4250</td>\n",
       "      <td>72.0</td>\n",
       "    </tr>\n",
       "    <tr>\n",
       "      <th>1</th>\n",
       "      <td>699317</td>\n",
       "      <td>1659</td>\n",
       "      <td>2021-05-29</td>\n",
       "      <td>8317</td>\n",
       "      <td>100.0</td>\n",
       "    </tr>\n",
       "    <tr>\n",
       "      <th>2</th>\n",
       "      <td>656683</td>\n",
       "      <td>7107</td>\n",
       "      <td>2021-05-09</td>\n",
       "      <td>10</td>\n",
       "      <td>0.0</td>\n",
       "    </tr>\n",
       "    <tr>\n",
       "      <th>3</th>\n",
       "      <td>864613</td>\n",
       "      <td>7638</td>\n",
       "      <td>2021-07-05</td>\n",
       "      <td>14483</td>\n",
       "      <td>100.0</td>\n",
       "    </tr>\n",
       "    <tr>\n",
       "      <th>4</th>\n",
       "      <td>964868</td>\n",
       "      <td>9506</td>\n",
       "      <td>2021-04-30</td>\n",
       "      <td>6725</td>\n",
       "      <td>100.0</td>\n",
       "    </tr>\n",
       "    <tr>\n",
       "      <th>...</th>\n",
       "      <td>...</td>\n",
       "      <td>...</td>\n",
       "      <td>...</td>\n",
       "      <td>...</td>\n",
       "      <td>...</td>\n",
       "    </tr>\n",
       "    <tr>\n",
       "      <th>5476246</th>\n",
       "      <td>648596</td>\n",
       "      <td>12225</td>\n",
       "      <td>2021-08-13</td>\n",
       "      <td>76</td>\n",
       "      <td>0.0</td>\n",
       "    </tr>\n",
       "    <tr>\n",
       "      <th>5476247</th>\n",
       "      <td>546862</td>\n",
       "      <td>9673</td>\n",
       "      <td>2021-04-13</td>\n",
       "      <td>2308</td>\n",
       "      <td>49.0</td>\n",
       "    </tr>\n",
       "    <tr>\n",
       "      <th>5476248</th>\n",
       "      <td>697262</td>\n",
       "      <td>15297</td>\n",
       "      <td>2021-08-20</td>\n",
       "      <td>18307</td>\n",
       "      <td>63.0</td>\n",
       "    </tr>\n",
       "    <tr>\n",
       "      <th>5476249</th>\n",
       "      <td>384202</td>\n",
       "      <td>16197</td>\n",
       "      <td>2021-04-19</td>\n",
       "      <td>6203</td>\n",
       "      <td>100.0</td>\n",
       "    </tr>\n",
       "    <tr>\n",
       "      <th>5476250</th>\n",
       "      <td>319709</td>\n",
       "      <td>4436</td>\n",
       "      <td>2021-08-15</td>\n",
       "      <td>3921</td>\n",
       "      <td>45.0</td>\n",
       "    </tr>\n",
       "  </tbody>\n",
       "</table>\n",
       "<p>5476251 rows × 5 columns</p>\n",
       "</div>"
      ],
      "text/plain": [
       "         user_id  item_id last_watch_dt  total_dur  watched_pct\n",
       "0         176549     9506    2021-05-11       4250         72.0\n",
       "1         699317     1659    2021-05-29       8317        100.0\n",
       "2         656683     7107    2021-05-09         10          0.0\n",
       "3         864613     7638    2021-07-05      14483        100.0\n",
       "4         964868     9506    2021-04-30       6725        100.0\n",
       "...          ...      ...           ...        ...          ...\n",
       "5476246   648596    12225    2021-08-13         76          0.0\n",
       "5476247   546862     9673    2021-04-13       2308         49.0\n",
       "5476248   697262    15297    2021-08-20      18307         63.0\n",
       "5476249   384202    16197    2021-04-19       6203        100.0\n",
       "5476250   319709     4436    2021-08-15       3921         45.0\n",
       "\n",
       "[5476251 rows x 5 columns]"
      ]
     },
     "execution_count": 61,
     "metadata": {},
     "output_type": "execute_result"
    }
   ],
   "source": [
    "interactions"
   ]
  },
  {
   "cell_type": "markdown",
   "metadata": {},
   "source": [
    "## 2. Посчитайте на этих данных корректность на бутстрепе и сравните ее с результатами за 1 неделю (посчитано на семинаре) (0.5 балла)"
   ]
  },
  {
   "cell_type": "markdown",
   "metadata": {},
   "source": [
    "Функции из семинаров"
   ]
  },
  {
   "cell_type": "code",
   "execution_count": 40,
   "metadata": {},
   "outputs": [],
   "source": [
    "def groups_splitter(df, columns, user_salt=None):\n",
    "    \n",
    "    if user_salt == None:\n",
    "        salt = salt_generator()\n",
    "    else:\n",
    "        salt = user_salt\n",
    "    \n",
    "    df['hash'] = ((df['user_id'].astype(str)) + '#' + salt).apply(lambda x: hashlib.sha256(x.encode('utf-8')).hexdigest())\n",
    "\n",
    "    df['group'] = ((df['hash'].str.slice(start=-6).apply(int, base=16) % 2).map(lambda x: 'A' if x == 0 else 'B'))\n",
    "\n",
    "    return df[columns].drop_duplicates()\n",
    "\n",
    "\n",
    "def salt_generator(salt=None):\n",
    "    import os\n",
    "    from base64 import b64encode\n",
    "    salt = os.urandom(8)\n",
    "    \n",
    "    return b64encode(salt).decode('ascii')\n",
    "\n",
    "\n",
    "def get_bootstrap_array(arr):\n",
    "    return np.random.choice(arr, replace=True, size=len(arr))\n",
    "\n",
    "\n",
    "def calc_bootstrap_mean(arr, size=1000):\n",
    "    result = np.empty(size)\n",
    "    for i in range(size):\n",
    "        result[i] = np.mean(get_bootstrap_array(arr))\n",
    "    return result\n",
    "\n",
    "\n",
    "def get_p_value(dist):\n",
    "    dist = np.array(dist)\n",
    "    x = (dist > 0).mean()\n",
    "    pvalue = min(x, 1 - x) * 2\n",
    "    return pvalue"
   ]
  },
  {
   "cell_type": "code",
   "execution_count": 52,
   "metadata": {},
   "outputs": [
    {
     "name": "stderr",
     "output_type": "stream",
     "text": [
      "100%|████████████████████████████████████████████████████████████████████████████████████████████████████████████████████████████████████████████████████████████████████| 1000/1000 [2:05:56<00:00,  7.56s/it]"
     ]
    },
    {
     "name": "stdout",
     "output_type": "stream",
     "text": [
      "significance: 7.199999999999999%\n"
     ]
    },
    {
     "name": "stderr",
     "output_type": "stream",
     "text": [
      "\n"
     ]
    }
   ],
   "source": [
    "correctness = []\n",
    "values = []\n",
    "\n",
    "for i in tqdm(range(1000)): # в дз используем 1000 итераций \n",
    "    \n",
    "    new_df = groups_splitter(two_week_interactions.copy(), columns=['user_id', 'total_dur', 'group'], user_salt=salt_generator()).drop_duplicates()\n",
    "\n",
    "    \n",
    "    vec_a = new_df[(new_df['group'] == 'A')]['total_dur']\n",
    "    vec_b = new_df[(new_df['group'] == 'B')]['total_dur']\n",
    "    \n",
    "    #bootstrap\n",
    "    sample_a_mean = calc_bootstrap_mean(vec_a, size=1000) # на бутстрэпе считаем средние для вектора\n",
    "    sample_b_mean = calc_bootstrap_mean(vec_b, size=1000)\n",
    "    values.append(sample_a_mean - sample_b_mean)\n",
    "    \n",
    "    left_side, right_side = np.percentile(sample_a_mean - sample_b_mean, \n",
    "                                                  [100 * 0.05 / 2., 100 * (1 - 0.05 / 2.)]) # считаем 95% доверительный интервал для разницы средних\n",
    "    \n",
    "    correctness.append(not left_side <= 0 <= right_side)\n",
    "    \n",
    "    test_correctness = collections.Counter(correctness)\n",
    "    \n",
    "print(f'significance: {test_correctness[1]/(test_correctness[1] + test_correctness[0])*100}%')"
   ]
  },
  {
   "cell_type": "code",
   "execution_count": 53,
   "metadata": {},
   "outputs": [],
   "source": [
    "p_values = [get_p_value(dist) for dist in values]"
   ]
  },
  {
   "cell_type": "code",
   "execution_count": 54,
   "metadata": {},
   "outputs": [
    {
     "data": {
      "text/plain": [
       "Text(0.5, 1.0, 'Бутстреп распределение p_value')"
      ]
     },
     "execution_count": 54,
     "metadata": {},
     "output_type": "execute_result"
    },
    {
     "data": {
      "image/png": "[encoded data removed]",
      "text/plain": [
       "<Figure size 640x480 with 1 Axes>"
      ]
     },
     "metadata": {},
     "output_type": "display_data"
    }
   ],
   "source": [
    "plt.hist(p_values, bins=10, color='purple');\n",
    "plt.title(f\"Бутстреп распределение p_value\")"
   ]
  },
  {
   "cell_type": "code",
   "execution_count": 55,
   "metadata": {},
   "outputs": [
    {
     "name": "stdout",
     "output_type": "stream",
     "text": [
      "p_value = 0.0069955902779505075 - p_values неравномерное распределение\n"
     ]
    }
   ],
   "source": [
    "stat, p_value = sts.kstest(p_values, sts.uniform(loc=0.0, scale=1.0).cdf)\n",
    "\n",
    "if p_value < 0.05:\n",
    "    print(f'p_value = {p_value} - p_values неравномерное распределение')\n",
    "else:\n",
    "    print(f'p_value = {p_value} - p_values равномерное распределение')"
   ]
  },
  {
   "cell_type": "markdown",
   "metadata": {},
   "source": [
    "#### У нас оказалось неравномерное распределение p-value, так что я решил попробовать другой способ разбиения на выборки"
   ]
  },
  {
   "cell_type": "code",
   "execution_count": 80,
   "metadata": {},
   "outputs": [],
   "source": [
    "two_week_interactions_copied = two_week_interactions.copy()"
   ]
  },
  {
   "cell_type": "code",
   "execution_count": 84,
   "metadata": {},
   "outputs": [
    {
     "name": "stderr",
     "output_type": "stream",
     "text": [
      "100%|████████████████████████████████████████████████████████████████████████████████████████████████████████████████████████████████████████████████████████████████████| 1000/1000 [3:02:42<00:00, 10.96s/it]"
     ]
    },
    {
     "name": "stdout",
     "output_type": "stream",
     "text": [
      "significance: 5.8999999999999995%\n"
     ]
    },
    {
     "name": "stderr",
     "output_type": "stream",
     "text": [
      "\n"
     ]
    }
   ],
   "source": [
    "correctness = []\n",
    "values = []\n",
    "\n",
    "two_week_interactions_copied['user_id'] = two_week_interactions_copied['user_id'].astype(str)\n",
    "two_week_interactions_copied = two_week_interactions_copied.drop_duplicates()\n",
    "\n",
    "for i in tqdm(range(1000), position=0, leave=True):  # в дз используем 1000 итераций \n",
    "    \n",
    "    groups = pd.util.hash_pandas_object(two_week_interactions_copied['user_id'] + '#' + salt_generator()) % 2\n",
    "\n",
    "    vec_a = two_week_interactions_copied[groups == 0]['total_dur']\n",
    "    vec_b = two_week_interactions_copied[groups == 1]['total_dur']\n",
    "\n",
    "    #bootstrap\n",
    "    sample_a_mean = calc_bootstrap_mean(vec_a, size=1000)\n",
    "    sample_b_mean = calc_bootstrap_mean(vec_b, size=1000)\n",
    "\n",
    "    values.append(sample_a_mean - sample_b_mean)\n",
    "\n",
    "    left_side, right_side = np.percentile(sample_a_mean - sample_b_mean, \n",
    "                                          [100 * 0.05 / 2., 100 * (1 - 0.05 / 2.)])\n",
    "\n",
    "    correctness.append(not left_side <= 0 <= right_side)\n",
    "\n",
    "    test_correctness = collections.Counter(correctness)\n",
    "\n",
    "print(f'significance: {test_correctness[1] / (test_correctness[1] + test_correctness[0]) * 100}%')"
   ]
  },
  {
   "cell_type": "markdown",
   "metadata": {},
   "source": [
    "На семинаре `significance` был равен 5 (там были взаимодействия за одну неделю)  \n",
    "У нас же получилось – 5.9"
   ]
  },
  {
   "cell_type": "code",
   "execution_count": 88,
   "metadata": {},
   "outputs": [],
   "source": [
    "p_values = [get_p_value(dist) for dist in values]"
   ]
  },
  {
   "cell_type": "code",
   "execution_count": 89,
   "metadata": {},
   "outputs": [
    {
     "data": {
      "text/plain": [
       "Text(0.5, 1.0, 'Бутстреп распределение p_value')"
      ]
     },
     "execution_count": 89,
     "metadata": {},
     "output_type": "execute_result"
    },
    {
     "data": {
      "image/png": "[encoded data removed]",
      "text/plain": [
       "<Figure size 640x480 with 1 Axes>"
      ]
     },
     "metadata": {},
     "output_type": "display_data"
    }
   ],
   "source": [
    "plt.hist(p_values, bins=10, color='purple');\n",
    "plt.title(f\"Бутстреп распределение p_value\")"
   ]
  },
  {
   "cell_type": "code",
   "execution_count": 87,
   "metadata": {},
   "outputs": [
    {
     "name": "stdout",
     "output_type": "stream",
     "text": [
      "p_value = 0.6034104769550357 - p_values равномерное распределение\n"
     ]
    }
   ],
   "source": [
    "stat, p_value = sts.kstest(p_values, sts.uniform(loc=0.0, scale=1.0).cdf)\n",
    "\n",
    "if p_value < 0.05:\n",
    "    print(f'p_value = {p_value} - p_values неравномерное распределение')\n",
    "else:\n",
    "    print(f'p_value = {p_value} - p_values равномерное распределение')"
   ]
  },
  {
   "cell_type": "markdown",
   "metadata": {},
   "source": [
    "Будем работать с этим"
   ]
  },
  {
   "cell_type": "markdown",
   "metadata": {},
   "source": [
    "## 3. На двух неделях посчитайте мощность. Для этого нужно в одну из групп докинуть эффект. Докиньте эффект в 1%, 3% и 5% и сравните полученную мощность (1.5 балла)"
   ]
  },
  {
   "cell_type": "code",
   "execution_count": 118,
   "metadata": {},
   "outputs": [],
   "source": [
    "from tweedie.tweedie_dist import tweedie_gen\n",
    "\n",
    "def generate_tweedie(mu, shape, p=1.5, phi=25):\n",
    "    tw = tweedie_gen()\n",
    "    return tw(p=p, mu=mu, phi=phi).rvs(shape)"
   ]
  },
  {
   "cell_type": "code",
   "execution_count": 122,
   "metadata": {},
   "outputs": [],
   "source": [
    "def test_power(df, effect=0, n_iter=1000):\n",
    "    \"\"\"\n",
    "    Функция для расчета мощности с разным эффектом\n",
    "    \"\"\"\n",
    "    correctness = []\n",
    "    values = []\n",
    "\n",
    "    for i in tqdm(range(n_iter), position=0, leave=True):\n",
    "\n",
    "        groups = pd.util.hash_pandas_object(df['user_id'] + '#' + salt_generator()) % 2\n",
    "\n",
    "        vec_a = df[groups == 0]['total_dur']\n",
    "        vec_b = df[groups == 1]['total_dur']\n",
    "        \n",
    "        vec_b += generate_tweedie(effect * vec_b.mean(), vec_b.shape[0])\n",
    "        \n",
    "        sample_a_mean = calc_bootstrap_mean(vec_a, size=1000)\n",
    "        sample_b_mean = calc_bootstrap_mean(vec_b, size=1000)\n",
    "\n",
    "        values.append(sample_a_mean - sample_b_mean)\n",
    "\n",
    "        left_side, right_side = np.percentile(sample_a_mean - sample_b_mean, \n",
    "                                              [100 * 0.05 / 2., 100 * (1 - 0.05 / 2.)])\n",
    "\n",
    "        correctness.append(not left_side <= 0 <= right_side)\n",
    "\n",
    "        test_correctness = collections.Counter(correctness)\n",
    "        \n",
    "    return {'effect': effect, \n",
    "            'correctness': correctness, \n",
    "            'values': values, \n",
    "            'test_correctness': test_correctness}"
   ]
  },
  {
   "cell_type": "code",
   "execution_count": 124,
   "metadata": {},
   "outputs": [
    {
     "name": "stderr",
     "output_type": "stream",
     "text": [
      "100%|████████████████████████████████████████████████████████████████████████████████████████████████████████████████████████████████████████████████████████████████████| 1000/1000 [1:49:18<00:00,  6.56s/it]\n",
      "100%|████████████████████████████████████████████████████████████████████████████████████████████████████████████████████████████████████████████████████████████████████| 1000/1000 [1:49:59<00:00,  6.60s/it]\n",
      "100%|████████████████████████████████████████████████████████████████████████████████████████████████████████████████████████████████████████████████████████████████████| 1000/1000 [1:44:36<00:00,  6.28s/it]\n"
     ]
    }
   ],
   "source": [
    "power_tests_results = []\n",
    "\n",
    "for eff in [0.01, 0.03, 0.05]:\n",
    "    power_tests_results.append(test_power(df=two_week_interactions_copied,\n",
    "                                          effect=eff,\n",
    "                                          n_iter=1000))"
   ]
  },
  {
   "cell_type": "code",
   "execution_count": 141,
   "metadata": {},
   "outputs": [
    {
     "data": {
      "image/png": "[encoded data removed]",
      "text/plain": [
       "<Figure size 1000x1200 with 3 Axes>"
      ]
     },
     "metadata": {},
     "output_type": "display_data"
    }
   ],
   "source": [
    "fig, axs = plt.subplots(3, 1, figsize=(10, 12))\n",
    "\n",
    "for i, res in enumerate(power_tests_results):\n",
    "    p_values = np.array([get_p_value(dist) for dist in res['values']])\n",
    "\n",
    "    stat, p_value = sts.kstest(p_values, sts.uniform(loc=0.0, scale=1.0).cdf)\n",
    "\n",
    "    beta = (p_values > 0.05).mean()\n",
    "\n",
    "    if p_value < 0.05:\n",
    "        uniform_distribution = \"Неравномерное распределение p_values\"\n",
    "    else:\n",
    "        uniform_distribution = \"Равномерное распределение p_values\"\n",
    "\n",
    "    axs[i].hist(p_values, bins=10, color='purple');\n",
    "    axs[i].set_title(f\"Эффект = +{round(res['effect']*100)}%. Бутстреп распределение p_value. Power = {round(100*(1 - beta), 1)}. {uniform_distribution}\")"
   ]
  },
  {
   "cell_type": "markdown",
   "metadata": {},
   "source": [
    "## 4. Посчитайте MDE, который можно зафиксировать на 2х неделях. В качестве alpha и beta подставьте ваши вычисленные ошибки 1 и 2 рода. Учитывайте что у нас формула для MDE работает для t-test или z-test (1 балл)"
   ]
  },
  {
   "cell_type": "code",
   "execution_count": 142,
   "metadata": {},
   "outputs": [],
   "source": [
    "from scipy.stats import norm"
   ]
  },
  {
   "cell_type": "code",
   "execution_count": 143,
   "metadata": {},
   "outputs": [
    {
     "data": {
      "text/plain": [
       "1.959963984540054"
      ]
     },
     "execution_count": 143,
     "metadata": {},
     "output_type": "execute_result"
    }
   ],
   "source": [
    "norm.ppf(1-(0.05 / 2), loc=0, scale=1)"
   ]
  },
  {
   "cell_type": "code",
   "execution_count": 144,
   "metadata": {},
   "outputs": [
    {
     "data": {
      "text/plain": [
       "0.8416212335729143"
      ]
     },
     "execution_count": 144,
     "metadata": {},
     "output_type": "execute_result"
    }
   ],
   "source": [
    "norm.ppf(1-0.2, loc=0, scale=1)"
   ]
  },
  {
   "cell_type": "code",
   "execution_count": 145,
   "metadata": {},
   "outputs": [],
   "source": [
    "def get_mde(metric_vec, alpha=0.05, beta=0.2):\n",
    "    \n",
    "    metric_mean, metric_std, metric_n = metric_vec.mean(), metric_vec.std(), metric_vec.count()\n",
    "    \n",
    "    z_alpha = norm.ppf(1 - (alpha / 2), loc=0, scale=1)\n",
    "    z_beta = norm.ppf(1 - beta, loc=0, scale=1)\n",
    "    \n",
    "    mde = (z_alpha + z_beta)*metric_std / np.sqrt(metric_n)\n",
    "    \n",
    "    return mde*100/metric_mean"
   ]
  },
  {
   "cell_type": "code",
   "execution_count": 146,
   "metadata": {},
   "outputs": [
    {
     "data": {
      "text/plain": [
       "1.6447007696706424"
      ]
     },
     "execution_count": 146,
     "metadata": {},
     "output_type": "execute_result"
    }
   ],
   "source": [
    "get_mde(two_week_interactions['total_dur'])"
   ]
  },
  {
   "cell_type": "markdown",
   "metadata": {},
   "source": [
    "# Теперь A/B тест (плак-плак)"
   ]
  },
  {
   "cell_type": "markdown",
   "metadata": {},
   "source": [
    "## 2. Занулите для всех пользователей total_dur, у которых total_dur < 500. Их НЕ УБИРАЕМ, а просто обрабатываем эти значения, принимая за нулевые, но пользователей также учитываем в эксперименте (0.5 балла)"
   ]
  },
  {
   "cell_type": "code",
   "execution_count": 154,
   "metadata": {},
   "outputs": [],
   "source": [
    "two_week_interactions_ab_test = two_week_interactions.copy()"
   ]
  },
  {
   "cell_type": "code",
   "execution_count": 157,
   "metadata": {},
   "outputs": [],
   "source": [
    "two_week_interactions_ab_test.loc[two_week_interactions_ab_test['total_dur'] < 500, 'total_dur'] = 0"
   ]
  },
  {
   "cell_type": "markdown",
   "metadata": {},
   "source": [
    "Проверка"
   ]
  },
  {
   "cell_type": "code",
   "execution_count": 170,
   "metadata": {},
   "outputs": [
    {
     "data": {
      "text/html": [
       "<div>\n",
       "<style scoped>\n",
       "    .dataframe tbody tr th:only-of-type {\n",
       "        vertical-align: middle;\n",
       "    }\n",
       "\n",
       "    .dataframe tbody tr th {\n",
       "        vertical-align: top;\n",
       "    }\n",
       "\n",
       "    .dataframe thead th {\n",
       "        text-align: right;\n",
       "    }\n",
       "</style>\n",
       "<table border=\"1\" class=\"dataframe\">\n",
       "  <thead>\n",
       "    <tr style=\"text-align: right;\">\n",
       "      <th></th>\n",
       "      <th>user_id</th>\n",
       "      <th>item_id</th>\n",
       "      <th>last_watch_dt</th>\n",
       "      <th>total_dur</th>\n",
       "      <th>watched_pct</th>\n",
       "    </tr>\n",
       "  </thead>\n",
       "  <tbody>\n",
       "  </tbody>\n",
       "</table>\n",
       "</div>"
      ],
      "text/plain": [
       "Empty DataFrame\n",
       "Columns: [user_id, item_id, last_watch_dt, total_dur, watched_pct]\n",
       "Index: []"
      ]
     },
     "execution_count": 170,
     "metadata": {},
     "output_type": "execute_result"
    }
   ],
   "source": [
    "two_week_interactions_ab_test[(two_week_interactions_ab_test['total_dur'] > 0) & \n",
    "                              (two_week_interactions_ab_test['total_dur'] < 500)]"
   ]
  },
  {
   "cell_type": "markdown",
   "metadata": {},
   "source": [
    "## 3. Разбейте их самостоятельно на две равные группы, используйте функцию groups_splitter и соль = 'kiontestmodel20210805' (0.5 балла)"
   ]
  },
  {
   "cell_type": "code",
   "execution_count": 211,
   "metadata": {},
   "outputs": [],
   "source": [
    "ab_test_groups = groups_splitter(two_week_interactions_ab_test.copy(), \n",
    "                         columns=['user_id', 'total_dur', 'group'], \n",
    "                         user_salt='kiontestmodel20210805').drop_duplicates().copy()"
   ]
  },
  {
   "cell_type": "code",
   "execution_count": 212,
   "metadata": {},
   "outputs": [
    {
     "data": {
      "text/html": [
       "<div>\n",
       "<style scoped>\n",
       "    .dataframe tbody tr th:only-of-type {\n",
       "        vertical-align: middle;\n",
       "    }\n",
       "\n",
       "    .dataframe tbody tr th {\n",
       "        vertical-align: top;\n",
       "    }\n",
       "\n",
       "    .dataframe thead th {\n",
       "        text-align: right;\n",
       "    }\n",
       "</style>\n",
       "<table border=\"1\" class=\"dataframe\">\n",
       "  <thead>\n",
       "    <tr style=\"text-align: right;\">\n",
       "      <th></th>\n",
       "      <th>user_id</th>\n",
       "      <th>total_dur</th>\n",
       "      <th>group</th>\n",
       "    </tr>\n",
       "  </thead>\n",
       "  <tbody>\n",
       "    <tr>\n",
       "      <th>6</th>\n",
       "      <td>1016458</td>\n",
       "      <td>1672</td>\n",
       "      <td>A</td>\n",
       "    </tr>\n",
       "    <tr>\n",
       "      <th>9</th>\n",
       "      <td>203219</td>\n",
       "      <td>6975</td>\n",
       "      <td>B</td>\n",
       "    </tr>\n",
       "    <tr>\n",
       "      <th>22</th>\n",
       "      <td>505244</td>\n",
       "      <td>15991</td>\n",
       "      <td>A</td>\n",
       "    </tr>\n",
       "    <tr>\n",
       "      <th>24</th>\n",
       "      <td>916352</td>\n",
       "      <td>1812</td>\n",
       "      <td>A</td>\n",
       "    </tr>\n",
       "    <tr>\n",
       "      <th>30</th>\n",
       "      <td>1057871</td>\n",
       "      <td>5033</td>\n",
       "      <td>A</td>\n",
       "    </tr>\n",
       "    <tr>\n",
       "      <th>5476215</th>\n",
       "      <td>204332</td>\n",
       "      <td>822</td>\n",
       "      <td>B</td>\n",
       "    </tr>\n",
       "    <tr>\n",
       "      <th>5476222</th>\n",
       "      <td>1007900</td>\n",
       "      <td>0</td>\n",
       "      <td>A</td>\n",
       "    </tr>\n",
       "    <tr>\n",
       "      <th>5476246</th>\n",
       "      <td>648596</td>\n",
       "      <td>0</td>\n",
       "      <td>B</td>\n",
       "    </tr>\n",
       "    <tr>\n",
       "      <th>5476248</th>\n",
       "      <td>697262</td>\n",
       "      <td>18307</td>\n",
       "      <td>A</td>\n",
       "    </tr>\n",
       "    <tr>\n",
       "      <th>5476250</th>\n",
       "      <td>319709</td>\n",
       "      <td>3921</td>\n",
       "      <td>A</td>\n",
       "    </tr>\n",
       "  </tbody>\n",
       "</table>\n",
       "</div>"
      ],
      "text/plain": [
       "         user_id  total_dur group\n",
       "6        1016458       1672     A\n",
       "9         203219       6975     B\n",
       "22        505244      15991     A\n",
       "24        916352       1812     A\n",
       "30       1057871       5033     A\n",
       "5476215   204332        822     B\n",
       "5476222  1007900          0     A\n",
       "5476246   648596          0     B\n",
       "5476248   697262      18307     A\n",
       "5476250   319709       3921     A"
      ]
     },
     "metadata": {},
     "output_type": "display_data"
    }
   ],
   "source": [
    "headtail(ab_test_groups)"
   ]
  },
  {
   "cell_type": "markdown",
   "metadata": {},
   "source": [
    "## 4. Оказалось, что модель в группе В показала себя лучше, чем в группе А на 2.5%, причем эффект распространился неравномерно и преимущественно на 10% самых смотрящих пользователей, докиньте такой эффект самостоятельно. Нужно метрику total_dur увеличить на 2.5% для 10% пользователей с самым продолжительным смотрением. (1 балл)"
   ]
  },
  {
   "cell_type": "code",
   "execution_count": 213,
   "metadata": {},
   "outputs": [
    {
     "data": {
      "text/html": [
       "<div>\n",
       "<style scoped>\n",
       "    .dataframe tbody tr th:only-of-type {\n",
       "        vertical-align: middle;\n",
       "    }\n",
       "\n",
       "    .dataframe tbody tr th {\n",
       "        vertical-align: top;\n",
       "    }\n",
       "\n",
       "    .dataframe thead tr th {\n",
       "        text-align: left;\n",
       "    }\n",
       "\n",
       "    .dataframe thead tr:last-of-type th {\n",
       "        text-align: right;\n",
       "    }\n",
       "</style>\n",
       "<table border=\"1\" class=\"dataframe\">\n",
       "  <thead>\n",
       "    <tr>\n",
       "      <th></th>\n",
       "      <th colspan=\"2\" halign=\"left\">total_dur</th>\n",
       "    </tr>\n",
       "    <tr>\n",
       "      <th></th>\n",
       "      <th>sum</th>\n",
       "      <th>mean</th>\n",
       "    </tr>\n",
       "    <tr>\n",
       "      <th>group</th>\n",
       "      <th></th>\n",
       "      <th></th>\n",
       "    </tr>\n",
       "  </thead>\n",
       "  <tbody>\n",
       "    <tr>\n",
       "      <th>A</th>\n",
       "      <td>2844750796</td>\n",
       "      <td>7927.232488</td>\n",
       "    </tr>\n",
       "    <tr>\n",
       "      <th>B</th>\n",
       "      <td>2818840303</td>\n",
       "      <td>7891.026292</td>\n",
       "    </tr>\n",
       "  </tbody>\n",
       "</table>\n",
       "</div>"
      ],
      "text/plain": [
       "        total_dur             \n",
       "              sum         mean\n",
       "group                         \n",
       "A      2844750796  7927.232488\n",
       "B      2818840303  7891.026292"
      ]
     },
     "execution_count": 213,
     "metadata": {},
     "output_type": "execute_result"
    }
   ],
   "source": [
    "ab_test_groups.groupby(['group']).agg({'total_dur': ['sum', 'mean']})"
   ]
  },
  {
   "cell_type": "code",
   "execution_count": 214,
   "metadata": {},
   "outputs": [],
   "source": [
    "ab_test_groups['total_dur'] = ab_test_groups['total_dur'].astype(float)"
   ]
  },
  {
   "cell_type": "markdown",
   "metadata": {},
   "source": [
    "Если честно, по описанию не до конца понятно, 10% самых смотрящих пользователей среди всех пользователей или среди пользователей группы B.  Допустим речь идет про топ 10% смотрящих в группе B"
   ]
  },
  {
   "cell_type": "code",
   "execution_count": 216,
   "metadata": {},
   "outputs": [
    {
     "data": {
      "text/html": [
       "<div>\n",
       "<style scoped>\n",
       "    .dataframe tbody tr th:only-of-type {\n",
       "        vertical-align: middle;\n",
       "    }\n",
       "\n",
       "    .dataframe tbody tr th {\n",
       "        vertical-align: top;\n",
       "    }\n",
       "\n",
       "    .dataframe thead th {\n",
       "        text-align: right;\n",
       "    }\n",
       "</style>\n",
       "<table border=\"1\" class=\"dataframe\">\n",
       "  <thead>\n",
       "    <tr style=\"text-align: right;\">\n",
       "      <th></th>\n",
       "      <th>user_id</th>\n",
       "      <th>total_dur</th>\n",
       "    </tr>\n",
       "  </thead>\n",
       "  <tbody>\n",
       "    <tr>\n",
       "      <th>83717</th>\n",
       "      <td>696597</td>\n",
       "      <td>9731707.0</td>\n",
       "    </tr>\n",
       "    <tr>\n",
       "      <th>96499</th>\n",
       "      <td>801503</td>\n",
       "      <td>6975755.0</td>\n",
       "    </tr>\n",
       "    <tr>\n",
       "      <th>45616</th>\n",
       "      <td>379372</td>\n",
       "      <td>5263287.0</td>\n",
       "    </tr>\n",
       "    <tr>\n",
       "      <th>123129</th>\n",
       "      <td>1019973</td>\n",
       "      <td>4321327.0</td>\n",
       "    </tr>\n",
       "    <tr>\n",
       "      <th>111923</th>\n",
       "      <td>927162</td>\n",
       "      <td>4175405.0</td>\n",
       "    </tr>\n",
       "    <tr>\n",
       "      <th>...</th>\n",
       "      <td>...</td>\n",
       "      <td>...</td>\n",
       "    </tr>\n",
       "    <tr>\n",
       "      <th>92954</th>\n",
       "      <td>772113</td>\n",
       "      <td>46825.0</td>\n",
       "    </tr>\n",
       "    <tr>\n",
       "      <th>5319</th>\n",
       "      <td>44274</td>\n",
       "      <td>46815.0</td>\n",
       "    </tr>\n",
       "    <tr>\n",
       "      <th>125846</th>\n",
       "      <td>1042266</td>\n",
       "      <td>46803.0</td>\n",
       "    </tr>\n",
       "    <tr>\n",
       "      <th>89891</th>\n",
       "      <td>747301</td>\n",
       "      <td>46802.0</td>\n",
       "    </tr>\n",
       "    <tr>\n",
       "      <th>17888</th>\n",
       "      <td>148028</td>\n",
       "      <td>46799.0</td>\n",
       "    </tr>\n",
       "  </tbody>\n",
       "</table>\n",
       "<p>13248 rows × 2 columns</p>\n",
       "</div>"
      ],
      "text/plain": [
       "        user_id  total_dur\n",
       "83717    696597  9731707.0\n",
       "96499    801503  6975755.0\n",
       "45616    379372  5263287.0\n",
       "123129  1019973  4321327.0\n",
       "111923   927162  4175405.0\n",
       "...         ...        ...\n",
       "92954    772113    46825.0\n",
       "5319      44274    46815.0\n",
       "125846  1042266    46803.0\n",
       "89891    747301    46802.0\n",
       "17888    148028    46799.0\n",
       "\n",
       "[13248 rows x 2 columns]"
      ]
     },
     "execution_count": 216,
     "metadata": {},
     "output_type": "execute_result"
    }
   ],
   "source": [
    "ab_test_groups[ab_test_groups['group'] == 'B'].groupby(['user_id']).agg({'total_dur': 'sum'}).reset_index().sort_values(by=['total_dur'], ascending=False).iloc[:13248]"
   ]
  },
  {
   "cell_type": "markdown",
   "metadata": {},
   "source": [
    "90% перцентиль общего просмотра среди пользователей в группе B:"
   ]
  },
  {
   "cell_type": "code",
   "execution_count": 217,
   "metadata": {},
   "outputs": [
    {
     "data": {
      "text/plain": [
       "46798.40000000001"
      ]
     },
     "execution_count": 217,
     "metadata": {},
     "output_type": "execute_result"
    }
   ],
   "source": [
    "ab_test_groups[ab_test_groups['group'] == 'B'].groupby(['user_id']).agg({'total_dur': \n",
    "                                                                         'sum'}).reset_index()['total_dur'].quantile(0.9)"
   ]
  },
  {
   "cell_type": "code",
   "execution_count": 218,
   "metadata": {},
   "outputs": [],
   "source": [
    "top10_min_dur_B = ab_test_groups[ab_test_groups['group'] == 'B'].groupby(['user_id']).agg({'total_dur': \n",
    "                                                                                           'sum'}).reset_index()['total_dur'].quantile(0.9)"
   ]
  },
  {
   "cell_type": "markdown",
   "metadata": {},
   "source": [
    "Топ 10% самых смотрящих пользователей среди группы B:"
   ]
  },
  {
   "cell_type": "code",
   "execution_count": 219,
   "metadata": {},
   "outputs": [
    {
     "data": {
      "text/plain": [
       "array([      3,     106,     120, ..., 1097444, 1097459, 1097515])"
      ]
     },
     "execution_count": 219,
     "metadata": {},
     "output_type": "execute_result"
    }
   ],
   "source": [
    "ab_test_groups[ab_test_groups['group'] == 'B'].groupby(['user_id']).agg({'total_dur': \n",
    "                                                                         'sum'}).reset_index().query('total_dur > @top10_min_dur_B')['user_id'].unique()"
   ]
  },
  {
   "cell_type": "code",
   "execution_count": 220,
   "metadata": {},
   "outputs": [],
   "source": [
    "top10_percent_users_B = ab_test_groups[ab_test_groups['group'] == 'B'].groupby(['user_id']).agg({'total_dur': \n",
    "                                                                                                 'sum'}).reset_index().query('total_dur > @top10_min_dur_B')['user_id'].unique()"
   ]
  },
  {
   "cell_type": "code",
   "execution_count": 221,
   "metadata": {},
   "outputs": [],
   "source": [
    "ab_test_groups.loc[(ab_test_groups['group'] == 'B') & \n",
    "                   (ab_test_groups['user_id'].isin(top10_percent_users_B)), 'total_dur'] = ab_test_groups.loc[(ab_test_groups['group'] == 'B') & \n",
    "                   (ab_test_groups['user_id'].isin(top10_percent_users_B)), 'total_dur'] * 1.025"
   ]
  },
  {
   "cell_type": "markdown",
   "metadata": {},
   "source": [
    "Добавили эффект вручную"
   ]
  },
  {
   "cell_type": "code",
   "execution_count": 222,
   "metadata": {},
   "outputs": [
    {
     "data": {
      "text/html": [
       "<div>\n",
       "<style scoped>\n",
       "    .dataframe tbody tr th:only-of-type {\n",
       "        vertical-align: middle;\n",
       "    }\n",
       "\n",
       "    .dataframe tbody tr th {\n",
       "        vertical-align: top;\n",
       "    }\n",
       "\n",
       "    .dataframe thead tr th {\n",
       "        text-align: left;\n",
       "    }\n",
       "\n",
       "    .dataframe thead tr:last-of-type th {\n",
       "        text-align: right;\n",
       "    }\n",
       "</style>\n",
       "<table border=\"1\" class=\"dataframe\">\n",
       "  <thead>\n",
       "    <tr>\n",
       "      <th></th>\n",
       "      <th colspan=\"2\" halign=\"left\">total_dur</th>\n",
       "    </tr>\n",
       "    <tr>\n",
       "      <th></th>\n",
       "      <th>sum</th>\n",
       "      <th>mean</th>\n",
       "    </tr>\n",
       "    <tr>\n",
       "      <th>group</th>\n",
       "      <th></th>\n",
       "      <th></th>\n",
       "    </tr>\n",
       "  </thead>\n",
       "  <tbody>\n",
       "    <tr>\n",
       "      <th>A</th>\n",
       "      <td>2.844751e+09</td>\n",
       "      <td>7927.232488</td>\n",
       "    </tr>\n",
       "    <tr>\n",
       "      <th>B</th>\n",
       "      <td>2.863624e+09</td>\n",
       "      <td>8016.393524</td>\n",
       "    </tr>\n",
       "  </tbody>\n",
       "</table>\n",
       "</div>"
      ],
      "text/plain": [
       "          total_dur             \n",
       "                sum         mean\n",
       "group                           \n",
       "A      2.844751e+09  7927.232488\n",
       "B      2.863624e+09  8016.393524"
      ]
     },
     "execution_count": 222,
     "metadata": {},
     "output_type": "execute_result"
    }
   ],
   "source": [
    "ab_test_groups.groupby(['group']).agg({'total_dur': ['sum', 'mean']})"
   ]
  },
  {
   "cell_type": "markdown",
   "metadata": {},
   "source": [
    "## 5. Посчитайте результат такого теста и сделайте выводы (2 балла)"
   ]
  },
  {
   "cell_type": "code",
   "execution_count": 224,
   "metadata": {},
   "outputs": [
    {
     "name": "stdout",
     "output_type": "stream",
     "text": [
      "-87.56525769840974 275.0196090015386\n"
     ]
    }
   ],
   "source": [
    "sample_a_mean = calc_bootstrap_mean(ab_test_groups.loc[ab_test_groups['group'] == 'A']['total_dur'], size=1000)\n",
    "sample_b_mean = calc_bootstrap_mean(ab_test_groups.loc[ab_test_groups['group'] == 'B']['total_dur'], size=1000)\n",
    "diff = sample_b_mean - sample_a_mean\n",
    "\n",
    "left_side, right_side = np.percentile(diff, [100 * 0.05 / 2., 100 * (1 - 0.05 / 2.)])\n",
    "print(left_side, right_side)"
   ]
  },
  {
   "cell_type": "code",
   "execution_count": 225,
   "metadata": {},
   "outputs": [
    {
     "data": {
      "text/plain": [
       "0.30000000000000004"
      ]
     },
     "execution_count": 225,
     "metadata": {},
     "output_type": "execute_result"
    }
   ],
   "source": [
    "get_p_value(diff)"
   ]
  },
  {
   "cell_type": "code",
   "execution_count": 230,
   "metadata": {},
   "outputs": [
    {
     "data": {
      "image/png": "[encoded data removed]",
      "text/plain": [
       "<Figure size 640x480 with 1 Axes>"
      ]
     },
     "metadata": {},
     "output_type": "display_data"
    }
   ],
   "source": [
    "plt.hist(sample_a_mean, \n",
    "         bins=30, color='purple', alpha=0.7, label='Group A')\n",
    "plt.hist(sample_b_mean, \n",
    "         bins=30, color='orange', alpha=0.7, label='Group B')\n",
    "plt.title('Histogram of Group A and Group B')\n",
    "plt.legend()\n",
    "plt.tight_layout()\n",
    "plt.show()"
   ]
  },
  {
   "cell_type": "markdown",
   "metadata": {},
   "source": [
    "### Выводы\n",
    "- `p_value` получилось 0.3 (> 0.05) => значит, у нас нет оснований отклонить нулевую гипотезу – гипотезу о том, что между выборками нет статически значимой разницы"
   ]
  },
  {
   "cell_type": "code",
   "execution_count": null,
   "metadata": {},
   "outputs": [],
   "source": []
  }
 ],
 "metadata": {
  "kernelspec": {
   "display_name": "Python 3 (ipykernel)",
   "language": "python",
   "name": "python3"
  },
  "language_info": {
   "codemirror_mode": {
    "name": "ipython",
    "version": 3
   },
   "file_extension": ".py",
   "mimetype": "text/x-python",
   "name": "python",
   "nbconvert_exporter": "python",
   "pygments_lexer": "ipython3",
   "version": "3.10.8"
  }
 },
 "nbformat": 4,
 "nbformat_minor": 4
}
