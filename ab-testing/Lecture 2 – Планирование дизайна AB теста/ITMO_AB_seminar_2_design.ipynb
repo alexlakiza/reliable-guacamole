{
 "cells": [
  {
   "cell_type": "markdown",
   "id": "836c4455",
   "metadata": {
    "ExecuteTime": {
     "end_time": "2023-11-21T15:05:01.203156Z",
     "start_time": "2023-11-21T15:04:59.315868Z"
    }
   },
   "source": [
    "### Автор материала - Котов Юрий"
   ]
  },
  {
   "cell_type": "code",
   "execution_count": 1,
   "id": "e3b4eb36",
   "metadata": {
    "ExecuteTime": {
     "end_time": "2023-11-21T15:44:01.977863Z",
     "start_time": "2023-11-21T15:44:00.190474Z"
    }
   },
   "outputs": [],
   "source": [
    "import numpy as np\n",
    "import scipy\n",
    "import matplotlib.pyplot as plt\n",
    "import scipy.stats as stats\n",
    "import statsmodels\n",
    "import statsmodels.sandbox.stats.multicomp\n",
    "import pandas as pd\n",
    "import datetime\n",
    "from statsmodels.stats.weightstats import ztest\n",
    "\n",
    "import matplotlib.pyplot as plt\n",
    "import seaborn as sns\n",
    "\n",
    "from tqdm import tqdm\n",
    "from sklearn.utils import shuffle\n",
    "import hashlib\n",
    "from base64 import b64encode\n",
    "import collections"
   ]
  },
  {
   "cell_type": "code",
   "execution_count": 2,
   "id": "503634bb",
   "metadata": {
    "ExecuteTime": {
     "end_time": "2023-11-21T15:44:06.214589Z",
     "start_time": "2023-11-21T15:44:06.197634Z"
    }
   },
   "outputs": [
    {
     "name": "stderr",
     "output_type": "stream",
     "text": [
      "<ipython-input-2-57f4fc94f2aa>:1: FutureWarning: Passing a negative integer is deprecated in version 1.0 and will not be supported in future version. Instead, use None to not limit the column width.\n",
      "  pd.set_option('display.max_colwidth', -1)\n"
     ]
    }
   ],
   "source": [
    "pd.set_option('display.max_colwidth', -1)\n",
    "pd.set_option('display.max_columns', 1000)\n",
    "pd.set_option('display.max_rows', 20000)"
   ]
  },
  {
   "cell_type": "markdown",
   "id": "c4caf773",
   "metadata": {},
   "source": [
    "1. Разбивка пользователей на группы: генерация соли, создание функции для разбивки пользователей\n",
    "2. Дизайн теста: MDE, пример дизайна"
   ]
  },
  {
   "cell_type": "markdown",
   "id": "7a895fc7",
   "metadata": {},
   "source": [
    "# Разбивка пользователей на группы"
   ]
  },
  {
   "cell_type": "code",
   "execution_count": 22,
   "id": "0e09e69e",
   "metadata": {
    "ExecuteTime": {
     "end_time": "2023-11-21T16:02:28.099920Z",
     "start_time": "2023-11-21T16:02:21.080266Z"
    }
   },
   "outputs": [],
   "source": [
    "shop_df = pd.read_csv('2019-Dec.csv.zip')"
   ]
  },
  {
   "cell_type": "code",
   "execution_count": 4,
   "id": "9f72d981",
   "metadata": {
    "ExecuteTime": {
     "end_time": "2023-11-21T15:44:48.211258Z",
     "start_time": "2023-11-21T15:44:48.188319Z"
    }
   },
   "outputs": [
    {
     "data": {
      "text/html": [
       "<div>\n",
       "<style scoped>\n",
       "    .dataframe tbody tr th:only-of-type {\n",
       "        vertical-align: middle;\n",
       "    }\n",
       "\n",
       "    .dataframe tbody tr th {\n",
       "        vertical-align: top;\n",
       "    }\n",
       "\n",
       "    .dataframe thead th {\n",
       "        text-align: right;\n",
       "    }\n",
       "</style>\n",
       "<table border=\"1\" class=\"dataframe\">\n",
       "  <thead>\n",
       "    <tr style=\"text-align: right;\">\n",
       "      <th></th>\n",
       "      <th>event_time</th>\n",
       "      <th>event_type</th>\n",
       "      <th>product_id</th>\n",
       "      <th>category_id</th>\n",
       "      <th>category_code</th>\n",
       "      <th>brand</th>\n",
       "      <th>price</th>\n",
       "      <th>user_id</th>\n",
       "      <th>user_session</th>\n",
       "    </tr>\n",
       "  </thead>\n",
       "  <tbody>\n",
       "    <tr>\n",
       "      <th>0</th>\n",
       "      <td>2019-12-01 00:00:00 UTC</td>\n",
       "      <td>remove_from_cart</td>\n",
       "      <td>5712790</td>\n",
       "      <td>1487580005268456287</td>\n",
       "      <td>NaN</td>\n",
       "      <td>f.o.x</td>\n",
       "      <td>6.27</td>\n",
       "      <td>576802932</td>\n",
       "      <td>51d85cb0-897f-48d2-918b-ad63965c12dc</td>\n",
       "    </tr>\n",
       "    <tr>\n",
       "      <th>1</th>\n",
       "      <td>2019-12-01 00:00:00 UTC</td>\n",
       "      <td>view</td>\n",
       "      <td>5764655</td>\n",
       "      <td>1487580005411062629</td>\n",
       "      <td>NaN</td>\n",
       "      <td>cnd</td>\n",
       "      <td>29.05</td>\n",
       "      <td>412120092</td>\n",
       "      <td>8adff31e-2051-4894-9758-224bfa8aec18</td>\n",
       "    </tr>\n",
       "    <tr>\n",
       "      <th>2</th>\n",
       "      <td>2019-12-01 00:00:02 UTC</td>\n",
       "      <td>cart</td>\n",
       "      <td>4958</td>\n",
       "      <td>1487580009471148064</td>\n",
       "      <td>NaN</td>\n",
       "      <td>runail</td>\n",
       "      <td>1.19</td>\n",
       "      <td>494077766</td>\n",
       "      <td>c99a50e8-2fac-4c4d-89ec-41c05f114554</td>\n",
       "    </tr>\n",
       "    <tr>\n",
       "      <th>3</th>\n",
       "      <td>2019-12-01 00:00:05 UTC</td>\n",
       "      <td>view</td>\n",
       "      <td>5848413</td>\n",
       "      <td>1487580007675986893</td>\n",
       "      <td>NaN</td>\n",
       "      <td>freedecor</td>\n",
       "      <td>0.79</td>\n",
       "      <td>348405118</td>\n",
       "      <td>722ffea5-73c0-4924-8e8f-371ff8031af4</td>\n",
       "    </tr>\n",
       "    <tr>\n",
       "      <th>4</th>\n",
       "      <td>2019-12-01 00:00:07 UTC</td>\n",
       "      <td>view</td>\n",
       "      <td>5824148</td>\n",
       "      <td>1487580005511725929</td>\n",
       "      <td>NaN</td>\n",
       "      <td>NaN</td>\n",
       "      <td>5.56</td>\n",
       "      <td>576005683</td>\n",
       "      <td>28172809-7e4a-45ce-bab0-5efa90117cd5</td>\n",
       "    </tr>\n",
       "  </tbody>\n",
       "</table>\n",
       "</div>"
      ],
      "text/plain": [
       "                event_time        event_type  product_id          category_id  \\\n",
       "0  2019-12-01 00:00:00 UTC  remove_from_cart  5712790     1487580005268456287   \n",
       "1  2019-12-01 00:00:00 UTC  view              5764655     1487580005411062629   \n",
       "2  2019-12-01 00:00:02 UTC  cart              4958        1487580009471148064   \n",
       "3  2019-12-01 00:00:05 UTC  view              5848413     1487580007675986893   \n",
       "4  2019-12-01 00:00:07 UTC  view              5824148     1487580005511725929   \n",
       "\n",
       "  category_code      brand  price    user_id  \\\n",
       "0  NaN           f.o.x      6.27   576802932   \n",
       "1  NaN           cnd        29.05  412120092   \n",
       "2  NaN           runail     1.19   494077766   \n",
       "3  NaN           freedecor  0.79   348405118   \n",
       "4  NaN           NaN        5.56   576005683   \n",
       "\n",
       "                           user_session  \n",
       "0  51d85cb0-897f-48d2-918b-ad63965c12dc  \n",
       "1  8adff31e-2051-4894-9758-224bfa8aec18  \n",
       "2  c99a50e8-2fac-4c4d-89ec-41c05f114554  \n",
       "3  722ffea5-73c0-4924-8e8f-371ff8031af4  \n",
       "4  28172809-7e4a-45ce-bab0-5efa90117cd5  "
      ]
     },
     "execution_count": 4,
     "metadata": {},
     "output_type": "execute_result"
    }
   ],
   "source": [
    "shop_df.head()"
   ]
  },
  {
   "cell_type": "markdown",
   "id": "8d69e8ab",
   "metadata": {},
   "source": [
    "У нас есть пользовательские логи. Допустим, мы хотим провести дизайн теста на этих данных. \n",
    "Необходимо разбить пользователей на группы"
   ]
  },
  {
   "cell_type": "markdown",
   "id": "96ff17b3",
   "metadata": {},
   "source": [
    "1. Проверяем тип данных в колонке, по которой будем разбивать\n",
    "2. Выбираем хэш-функцию, соль и создаем новую колонку хэшированного айди\n",
    "3. Конвертируем в числовой вид и берем остаток от целочисленного деления на 2. По остатку выставляем группу"
   ]
  },
  {
   "cell_type": "markdown",
   "id": "eeade5c6",
   "metadata": {},
   "source": [
    "https://python.readthedocs.io/en/stable/library/hashlib.html "
   ]
  },
  {
   "cell_type": "code",
   "execution_count": 18,
   "id": "34f6d7ce",
   "metadata": {
    "ExecuteTime": {
     "end_time": "2023-11-21T16:00:23.849539Z",
     "start_time": "2023-11-21T16:00:12.809378Z"
    }
   },
   "outputs": [],
   "source": [
    "shop_df['hash'] = ((shop_df['user_id'].astype(str)) + '#' + 'av8MC4yMseo=').apply(lambda x: hashlib.sha256(x.encode('utf-8')).hexdigest())\n",
    "\n",
    "shop_df['group_5'] = ((shop_df['hash'].str.slice(start=-6).apply(int, base=16) % 10).map(lambda x: 'A' if x in [0,1,2,3] else 'B'))"
   ]
  },
  {
   "cell_type": "code",
   "execution_count": 19,
   "id": "1720eead",
   "metadata": {
    "ExecuteTime": {
     "end_time": "2023-11-21T16:00:23.881454Z",
     "start_time": "2023-11-21T16:00:23.851535Z"
    }
   },
   "outputs": [
    {
     "data": {
      "text/html": [
       "<div>\n",
       "<style scoped>\n",
       "    .dataframe tbody tr th:only-of-type {\n",
       "        vertical-align: middle;\n",
       "    }\n",
       "\n",
       "    .dataframe tbody tr th {\n",
       "        vertical-align: top;\n",
       "    }\n",
       "\n",
       "    .dataframe thead th {\n",
       "        text-align: right;\n",
       "    }\n",
       "</style>\n",
       "<table border=\"1\" class=\"dataframe\">\n",
       "  <thead>\n",
       "    <tr style=\"text-align: right;\">\n",
       "      <th></th>\n",
       "      <th>event_time</th>\n",
       "      <th>event_type</th>\n",
       "      <th>product_id</th>\n",
       "      <th>category_id</th>\n",
       "      <th>category_code</th>\n",
       "      <th>brand</th>\n",
       "      <th>price</th>\n",
       "      <th>user_id</th>\n",
       "      <th>user_session</th>\n",
       "      <th>hash</th>\n",
       "      <th>group</th>\n",
       "      <th>group_2</th>\n",
       "      <th>group_3</th>\n",
       "      <th>group_4</th>\n",
       "      <th>group_5</th>\n",
       "    </tr>\n",
       "  </thead>\n",
       "  <tbody>\n",
       "    <tr>\n",
       "      <th>0</th>\n",
       "      <td>2019-12-01 00:00:00 UTC</td>\n",
       "      <td>remove_from_cart</td>\n",
       "      <td>5712790</td>\n",
       "      <td>1487580005268456287</td>\n",
       "      <td>NaN</td>\n",
       "      <td>f.o.x</td>\n",
       "      <td>6.27</td>\n",
       "      <td>576802932</td>\n",
       "      <td>51d85cb0-897f-48d2-918b-ad63965c12dc</td>\n",
       "      <td>6c6abc4f2077ee735acc10873aeec1e84c73fdc61368db94ce5ac40ebb0763f8</td>\n",
       "      <td>B</td>\n",
       "      <td>B</td>\n",
       "      <td>B</td>\n",
       "      <td>B</td>\n",
       "      <td>B</td>\n",
       "    </tr>\n",
       "    <tr>\n",
       "      <th>1</th>\n",
       "      <td>2019-12-01 00:00:00 UTC</td>\n",
       "      <td>view</td>\n",
       "      <td>5764655</td>\n",
       "      <td>1487580005411062629</td>\n",
       "      <td>NaN</td>\n",
       "      <td>cnd</td>\n",
       "      <td>29.05</td>\n",
       "      <td>412120092</td>\n",
       "      <td>8adff31e-2051-4894-9758-224bfa8aec18</td>\n",
       "      <td>1d801c27dc25cc0d23e8807a40e5b67b598ba43f953845a3ac77c2134c319d4d</td>\n",
       "      <td>B</td>\n",
       "      <td>B</td>\n",
       "      <td>B</td>\n",
       "      <td>B</td>\n",
       "      <td>A</td>\n",
       "    </tr>\n",
       "    <tr>\n",
       "      <th>2</th>\n",
       "      <td>2019-12-01 00:00:02 UTC</td>\n",
       "      <td>cart</td>\n",
       "      <td>4958</td>\n",
       "      <td>1487580009471148064</td>\n",
       "      <td>NaN</td>\n",
       "      <td>runail</td>\n",
       "      <td>1.19</td>\n",
       "      <td>494077766</td>\n",
       "      <td>c99a50e8-2fac-4c4d-89ec-41c05f114554</td>\n",
       "      <td>fe7130fd86b413dba79ce99577835460ab1d98a665f96284a909e3b6517723a6</td>\n",
       "      <td>B</td>\n",
       "      <td>A</td>\n",
       "      <td>B</td>\n",
       "      <td>A</td>\n",
       "      <td>A</td>\n",
       "    </tr>\n",
       "    <tr>\n",
       "      <th>3</th>\n",
       "      <td>2019-12-01 00:00:05 UTC</td>\n",
       "      <td>view</td>\n",
       "      <td>5848413</td>\n",
       "      <td>1487580007675986893</td>\n",
       "      <td>NaN</td>\n",
       "      <td>freedecor</td>\n",
       "      <td>0.79</td>\n",
       "      <td>348405118</td>\n",
       "      <td>722ffea5-73c0-4924-8e8f-371ff8031af4</td>\n",
       "      <td>ebbd986195fccc1fdd7193a8218b612bbe752ee6a2ecc149237c75d46d881eec</td>\n",
       "      <td>B</td>\n",
       "      <td>B</td>\n",
       "      <td>B</td>\n",
       "      <td>A</td>\n",
       "      <td>A</td>\n",
       "    </tr>\n",
       "    <tr>\n",
       "      <th>4</th>\n",
       "      <td>2019-12-01 00:00:07 UTC</td>\n",
       "      <td>view</td>\n",
       "      <td>5824148</td>\n",
       "      <td>1487580005511725929</td>\n",
       "      <td>NaN</td>\n",
       "      <td>NaN</td>\n",
       "      <td>5.56</td>\n",
       "      <td>576005683</td>\n",
       "      <td>28172809-7e4a-45ce-bab0-5efa90117cd5</td>\n",
       "      <td>36d2843862fbcf92392839a9cba65b6522717b91f514f80613c235c6a9c0210e</td>\n",
       "      <td>B</td>\n",
       "      <td>B</td>\n",
       "      <td>B</td>\n",
       "      <td>A</td>\n",
       "      <td>B</td>\n",
       "    </tr>\n",
       "  </tbody>\n",
       "</table>\n",
       "</div>"
      ],
      "text/plain": [
       "                event_time        event_type  product_id          category_id  \\\n",
       "0  2019-12-01 00:00:00 UTC  remove_from_cart  5712790     1487580005268456287   \n",
       "1  2019-12-01 00:00:00 UTC  view              5764655     1487580005411062629   \n",
       "2  2019-12-01 00:00:02 UTC  cart              4958        1487580009471148064   \n",
       "3  2019-12-01 00:00:05 UTC  view              5848413     1487580007675986893   \n",
       "4  2019-12-01 00:00:07 UTC  view              5824148     1487580005511725929   \n",
       "\n",
       "  category_code      brand  price    user_id  \\\n",
       "0  NaN           f.o.x      6.27   576802932   \n",
       "1  NaN           cnd        29.05  412120092   \n",
       "2  NaN           runail     1.19   494077766   \n",
       "3  NaN           freedecor  0.79   348405118   \n",
       "4  NaN           NaN        5.56   576005683   \n",
       "\n",
       "                           user_session  \\\n",
       "0  51d85cb0-897f-48d2-918b-ad63965c12dc   \n",
       "1  8adff31e-2051-4894-9758-224bfa8aec18   \n",
       "2  c99a50e8-2fac-4c4d-89ec-41c05f114554   \n",
       "3  722ffea5-73c0-4924-8e8f-371ff8031af4   \n",
       "4  28172809-7e4a-45ce-bab0-5efa90117cd5   \n",
       "\n",
       "                                                               hash group  \\\n",
       "0  6c6abc4f2077ee735acc10873aeec1e84c73fdc61368db94ce5ac40ebb0763f8  B      \n",
       "1  1d801c27dc25cc0d23e8807a40e5b67b598ba43f953845a3ac77c2134c319d4d  B      \n",
       "2  fe7130fd86b413dba79ce99577835460ab1d98a665f96284a909e3b6517723a6  B      \n",
       "3  ebbd986195fccc1fdd7193a8218b612bbe752ee6a2ecc149237c75d46d881eec  B      \n",
       "4  36d2843862fbcf92392839a9cba65b6522717b91f514f80613c235c6a9c0210e  B      \n",
       "\n",
       "  group_2 group_3 group_4 group_5  \n",
       "0  B       B       B       B       \n",
       "1  B       B       B       A       \n",
       "2  A       B       A       A       \n",
       "3  B       B       A       A       \n",
       "4  B       B       A       B       "
      ]
     },
     "execution_count": 19,
     "metadata": {},
     "output_type": "execute_result"
    }
   ],
   "source": [
    "shop_df.head(5)"
   ]
  },
  {
   "cell_type": "code",
   "execution_count": 15,
   "id": "4a6f2a24",
   "metadata": {
    "ExecuteTime": {
     "end_time": "2023-11-21T15:58:57.267449Z",
     "start_time": "2023-11-21T15:58:54.523125Z"
    }
   },
   "outputs": [
    {
     "data": {
      "text/html": [
       "<div>\n",
       "<style scoped>\n",
       "    .dataframe tbody tr th:only-of-type {\n",
       "        vertical-align: middle;\n",
       "    }\n",
       "\n",
       "    .dataframe tbody tr th {\n",
       "        vertical-align: top;\n",
       "    }\n",
       "\n",
       "    .dataframe thead th {\n",
       "        text-align: right;\n",
       "    }\n",
       "</style>\n",
       "<table border=\"1\" class=\"dataframe\">\n",
       "  <thead>\n",
       "    <tr style=\"text-align: right;\">\n",
       "      <th></th>\n",
       "      <th>group_4</th>\n",
       "      <th>event_time</th>\n",
       "      <th>event_type</th>\n",
       "      <th>product_id</th>\n",
       "      <th>category_id</th>\n",
       "      <th>category_code</th>\n",
       "      <th>brand</th>\n",
       "      <th>price</th>\n",
       "      <th>user_id</th>\n",
       "      <th>user_session</th>\n",
       "      <th>hash</th>\n",
       "      <th>group</th>\n",
       "      <th>group_2</th>\n",
       "      <th>group_3</th>\n",
       "    </tr>\n",
       "  </thead>\n",
       "  <tbody>\n",
       "    <tr>\n",
       "      <th>0</th>\n",
       "      <td>A</td>\n",
       "      <td>1413346</td>\n",
       "      <td>1413346</td>\n",
       "      <td>1413346</td>\n",
       "      <td>1413346</td>\n",
       "      <td>23520</td>\n",
       "      <td>809952</td>\n",
       "      <td>1413346</td>\n",
       "      <td>1413346</td>\n",
       "      <td>1413027</td>\n",
       "      <td>1413346</td>\n",
       "      <td>1413346</td>\n",
       "      <td>1413346</td>\n",
       "      <td>1413346</td>\n",
       "    </tr>\n",
       "    <tr>\n",
       "      <th>1</th>\n",
       "      <td>B</td>\n",
       "      <td>2119940</td>\n",
       "      <td>2119940</td>\n",
       "      <td>2119940</td>\n",
       "      <td>2119940</td>\n",
       "      <td>34945</td>\n",
       "      <td>1213045</td>\n",
       "      <td>2119940</td>\n",
       "      <td>2119940</td>\n",
       "      <td>2119480</td>\n",
       "      <td>2119940</td>\n",
       "      <td>2119940</td>\n",
       "      <td>2119940</td>\n",
       "      <td>2119940</td>\n",
       "    </tr>\n",
       "  </tbody>\n",
       "</table>\n",
       "</div>"
      ],
      "text/plain": [
       "  group_4  event_time  event_type  product_id  category_id  category_code  \\\n",
       "0  A       1413346     1413346     1413346     1413346      23520           \n",
       "1  B       2119940     2119940     2119940     2119940      34945           \n",
       "\n",
       "     brand    price  user_id  user_session     hash    group  group_2  group_3  \n",
       "0  809952   1413346  1413346  1413027       1413346  1413346  1413346  1413346  \n",
       "1  1213045  2119940  2119940  2119480       2119940  2119940  2119940  2119940  "
      ]
     },
     "execution_count": 15,
     "metadata": {},
     "output_type": "execute_result"
    }
   ],
   "source": [
    "shop_df.groupby(['group_4'], as_index=False).count()"
   ]
  },
  {
   "cell_type": "code",
   "execution_count": 12,
   "id": "c2859caf",
   "metadata": {
    "ExecuteTime": {
     "end_time": "2023-11-21T15:56:58.181926Z",
     "start_time": "2023-11-21T15:56:36.924254Z"
    }
   },
   "outputs": [
    {
     "data": {
      "text/html": [
       "<div>\n",
       "<style scoped>\n",
       "    .dataframe tbody tr th:only-of-type {\n",
       "        vertical-align: middle;\n",
       "    }\n",
       "\n",
       "    .dataframe tbody tr th {\n",
       "        vertical-align: top;\n",
       "    }\n",
       "\n",
       "    .dataframe thead th {\n",
       "        text-align: right;\n",
       "    }\n",
       "</style>\n",
       "<table border=\"1\" class=\"dataframe\">\n",
       "  <thead>\n",
       "    <tr style=\"text-align: right;\">\n",
       "      <th></th>\n",
       "      <th>group</th>\n",
       "      <th>event_time</th>\n",
       "      <th>event_type</th>\n",
       "      <th>product_id</th>\n",
       "      <th>category_id</th>\n",
       "      <th>category_code</th>\n",
       "      <th>brand</th>\n",
       "      <th>price</th>\n",
       "      <th>user_id</th>\n",
       "      <th>user_session</th>\n",
       "      <th>hash</th>\n",
       "      <th>group_2</th>\n",
       "      <th>group_3</th>\n",
       "    </tr>\n",
       "  </thead>\n",
       "  <tbody>\n",
       "    <tr>\n",
       "      <th>0</th>\n",
       "      <td>A</td>\n",
       "      <td>1095899</td>\n",
       "      <td>4</td>\n",
       "      <td>41668</td>\n",
       "      <td>470</td>\n",
       "      <td>10</td>\n",
       "      <td>249</td>\n",
       "      <td>2069</td>\n",
       "      <td>184721</td>\n",
       "      <td>417061</td>\n",
       "      <td>184721</td>\n",
       "      <td>2</td>\n",
       "      <td>1</td>\n",
       "    </tr>\n",
       "    <tr>\n",
       "      <th>1</th>\n",
       "      <td>B</td>\n",
       "      <td>1108209</td>\n",
       "      <td>4</td>\n",
       "      <td>41679</td>\n",
       "      <td>468</td>\n",
       "      <td>10</td>\n",
       "      <td>249</td>\n",
       "      <td>2058</td>\n",
       "      <td>185433</td>\n",
       "      <td>422771</td>\n",
       "      <td>185433</td>\n",
       "      <td>2</td>\n",
       "      <td>1</td>\n",
       "    </tr>\n",
       "  </tbody>\n",
       "</table>\n",
       "</div>"
      ],
      "text/plain": [
       "  group  event_time  event_type  product_id  category_id  category_code  \\\n",
       "0  A     1095899     4           41668       470          10              \n",
       "1  B     1108209     4           41679       468          10              \n",
       "\n",
       "   brand  price  user_id  user_session    hash  group_2  group_3  \n",
       "0  249    2069   184721   417061        184721  2        1        \n",
       "1  249    2058   185433   422771        185433  2        1        "
      ]
     },
     "execution_count": 12,
     "metadata": {},
     "output_type": "execute_result"
    }
   ],
   "source": [
    "shop_df.groupby(['group'], as_index=False).nunique()"
   ]
  },
  {
   "cell_type": "code",
   "execution_count": 16,
   "id": "e85bcaee",
   "metadata": {
    "ExecuteTime": {
     "end_time": "2023-11-21T15:59:44.611350Z",
     "start_time": "2023-11-21T15:59:44.602349Z"
    }
   },
   "outputs": [],
   "source": [
    "def salt_generator(salt=None):\n",
    "    import os\n",
    "    from base64 import b64encode # кодирует байтоподобный объект с помощью Base64 и возвращает закодированную байтовую строку.\n",
    "    salt = os.urandom(8)\n",
    "    \n",
    "    return b64encode(salt).decode('ascii')\n",
    "\n",
    "# '''os.urandom() method is used to generate a string of size random bytes suitable for cryptographic use \n",
    "#    or we can say this method generates a string containing random characters.'''\n",
    "# https://www.geeksforgeeks.org/python-os-urandom-method/ "
   ]
  },
  {
   "cell_type": "code",
   "execution_count": 21,
   "id": "f9e0fa78",
   "metadata": {
    "ExecuteTime": {
     "end_time": "2023-11-21T16:00:49.885965Z",
     "start_time": "2023-11-21T16:00:49.868013Z"
    }
   },
   "outputs": [
    {
     "data": {
      "text/plain": [
       "'3vvYXZVkXAc='"
      ]
     },
     "execution_count": 21,
     "metadata": {},
     "output_type": "execute_result"
    }
   ],
   "source": [
    "salt_generator()"
   ]
  },
  {
   "cell_type": "code",
   "execution_count": 25,
   "id": "5e3a735f",
   "metadata": {
    "ExecuteTime": {
     "end_time": "2023-11-21T16:03:10.269372Z",
     "start_time": "2023-11-21T16:03:10.259399Z"
    }
   },
   "outputs": [],
   "source": [
    "# Делим на 2 равные группы \n",
    "def groups_splitter(df, columns, user_salt=None):\n",
    "    \n",
    "    if user_salt == None:\n",
    "        salt = salt_generator()\n",
    "    else:\n",
    "        salt = user_salt\n",
    "    \n",
    "    df['hash'] = ((df['user_id'].astype(str)) + '#' + salt).apply(lambda x: hashlib.sha256(x.encode('utf-8')).hexdigest())\n",
    "\n",
    "    df['group'] = ((df['hash'].str.slice(start=-6).apply(int, base=16) % 2).map(lambda x: 'A' if x == 0 else 'B'))\n",
    "\n",
    "    return df[columns].drop_duplicates()"
   ]
  },
  {
   "cell_type": "markdown",
   "id": "46dbddce",
   "metadata": {},
   "source": [
    "Проверим, как функция работает"
   ]
  },
  {
   "cell_type": "code",
   "execution_count": null,
   "id": "9e09e77b",
   "metadata": {
    "ExecuteTime": {
     "end_time": "2023-11-21T15:07:30.222132Z",
     "start_time": "2023-11-21T15:07:29.897974Z"
    }
   },
   "outputs": [],
   "source": [
    "shop_df = shop_df.drop(columns=['hash', 'group']) # дропаем колонки, если они остались от предыдущих упражнений"
   ]
  },
  {
   "cell_type": "code",
   "execution_count": 23,
   "id": "e22c7284",
   "metadata": {
    "ExecuteTime": {
     "end_time": "2023-11-21T16:02:36.699241Z",
     "start_time": "2023-11-21T16:02:36.683258Z"
    }
   },
   "outputs": [
    {
     "data": {
      "text/html": [
       "<div>\n",
       "<style scoped>\n",
       "    .dataframe tbody tr th:only-of-type {\n",
       "        vertical-align: middle;\n",
       "    }\n",
       "\n",
       "    .dataframe tbody tr th {\n",
       "        vertical-align: top;\n",
       "    }\n",
       "\n",
       "    .dataframe thead th {\n",
       "        text-align: right;\n",
       "    }\n",
       "</style>\n",
       "<table border=\"1\" class=\"dataframe\">\n",
       "  <thead>\n",
       "    <tr style=\"text-align: right;\">\n",
       "      <th></th>\n",
       "      <th>event_time</th>\n",
       "      <th>event_type</th>\n",
       "      <th>product_id</th>\n",
       "      <th>category_id</th>\n",
       "      <th>category_code</th>\n",
       "      <th>brand</th>\n",
       "      <th>price</th>\n",
       "      <th>user_id</th>\n",
       "      <th>user_session</th>\n",
       "    </tr>\n",
       "  </thead>\n",
       "  <tbody>\n",
       "    <tr>\n",
       "      <th>0</th>\n",
       "      <td>2019-12-01 00:00:00 UTC</td>\n",
       "      <td>remove_from_cart</td>\n",
       "      <td>5712790</td>\n",
       "      <td>1487580005268456287</td>\n",
       "      <td>NaN</td>\n",
       "      <td>f.o.x</td>\n",
       "      <td>6.27</td>\n",
       "      <td>576802932</td>\n",
       "      <td>51d85cb0-897f-48d2-918b-ad63965c12dc</td>\n",
       "    </tr>\n",
       "    <tr>\n",
       "      <th>1</th>\n",
       "      <td>2019-12-01 00:00:00 UTC</td>\n",
       "      <td>view</td>\n",
       "      <td>5764655</td>\n",
       "      <td>1487580005411062629</td>\n",
       "      <td>NaN</td>\n",
       "      <td>cnd</td>\n",
       "      <td>29.05</td>\n",
       "      <td>412120092</td>\n",
       "      <td>8adff31e-2051-4894-9758-224bfa8aec18</td>\n",
       "    </tr>\n",
       "    <tr>\n",
       "      <th>2</th>\n",
       "      <td>2019-12-01 00:00:02 UTC</td>\n",
       "      <td>cart</td>\n",
       "      <td>4958</td>\n",
       "      <td>1487580009471148064</td>\n",
       "      <td>NaN</td>\n",
       "      <td>runail</td>\n",
       "      <td>1.19</td>\n",
       "      <td>494077766</td>\n",
       "      <td>c99a50e8-2fac-4c4d-89ec-41c05f114554</td>\n",
       "    </tr>\n",
       "  </tbody>\n",
       "</table>\n",
       "</div>"
      ],
      "text/plain": [
       "                event_time        event_type  product_id          category_id  \\\n",
       "0  2019-12-01 00:00:00 UTC  remove_from_cart  5712790     1487580005268456287   \n",
       "1  2019-12-01 00:00:00 UTC  view              5764655     1487580005411062629   \n",
       "2  2019-12-01 00:00:02 UTC  cart              4958        1487580009471148064   \n",
       "\n",
       "  category_code   brand  price    user_id  \\\n",
       "0  NaN           f.o.x   6.27   576802932   \n",
       "1  NaN           cnd     29.05  412120092   \n",
       "2  NaN           runail  1.19   494077766   \n",
       "\n",
       "                           user_session  \n",
       "0  51d85cb0-897f-48d2-918b-ad63965c12dc  \n",
       "1  8adff31e-2051-4894-9758-224bfa8aec18  \n",
       "2  c99a50e8-2fac-4c4d-89ec-41c05f114554  "
      ]
     },
     "execution_count": 23,
     "metadata": {},
     "output_type": "execute_result"
    }
   ],
   "source": [
    "shop_df.head(3) # проверяем, все ли окей"
   ]
  },
  {
   "cell_type": "code",
   "execution_count": 26,
   "id": "929848d7",
   "metadata": {
    "ExecuteTime": {
     "end_time": "2023-11-21T16:03:28.455470Z",
     "start_time": "2023-11-21T16:03:13.121211Z"
    }
   },
   "outputs": [],
   "source": [
    "groups = groups_splitter(shop_df.copy(), ['user_id', 'group']) # передаем копию датафрейма, чтобы исходный не менялся\n",
    "shop_df = pd.merge(shop_df, groups, how='left', on=['user_id']) # джойним датафрейм с логами с датафреймом юзер-группа"
   ]
  },
  {
   "cell_type": "code",
   "execution_count": 27,
   "id": "2518c98d",
   "metadata": {
    "ExecuteTime": {
     "end_time": "2023-11-21T16:03:30.411412Z",
     "start_time": "2023-11-21T16:03:30.389470Z"
    }
   },
   "outputs": [
    {
     "data": {
      "text/html": [
       "<div>\n",
       "<style scoped>\n",
       "    .dataframe tbody tr th:only-of-type {\n",
       "        vertical-align: middle;\n",
       "    }\n",
       "\n",
       "    .dataframe tbody tr th {\n",
       "        vertical-align: top;\n",
       "    }\n",
       "\n",
       "    .dataframe thead th {\n",
       "        text-align: right;\n",
       "    }\n",
       "</style>\n",
       "<table border=\"1\" class=\"dataframe\">\n",
       "  <thead>\n",
       "    <tr style=\"text-align: right;\">\n",
       "      <th></th>\n",
       "      <th>event_time</th>\n",
       "      <th>event_type</th>\n",
       "      <th>product_id</th>\n",
       "      <th>category_id</th>\n",
       "      <th>category_code</th>\n",
       "      <th>brand</th>\n",
       "      <th>price</th>\n",
       "      <th>user_id</th>\n",
       "      <th>user_session</th>\n",
       "      <th>group</th>\n",
       "    </tr>\n",
       "  </thead>\n",
       "  <tbody>\n",
       "    <tr>\n",
       "      <th>0</th>\n",
       "      <td>2019-12-01 00:00:00 UTC</td>\n",
       "      <td>remove_from_cart</td>\n",
       "      <td>5712790</td>\n",
       "      <td>1487580005268456287</td>\n",
       "      <td>NaN</td>\n",
       "      <td>f.o.x</td>\n",
       "      <td>6.27</td>\n",
       "      <td>576802932</td>\n",
       "      <td>51d85cb0-897f-48d2-918b-ad63965c12dc</td>\n",
       "      <td>A</td>\n",
       "    </tr>\n",
       "    <tr>\n",
       "      <th>1</th>\n",
       "      <td>2019-12-01 00:00:00 UTC</td>\n",
       "      <td>view</td>\n",
       "      <td>5764655</td>\n",
       "      <td>1487580005411062629</td>\n",
       "      <td>NaN</td>\n",
       "      <td>cnd</td>\n",
       "      <td>29.05</td>\n",
       "      <td>412120092</td>\n",
       "      <td>8adff31e-2051-4894-9758-224bfa8aec18</td>\n",
       "      <td>A</td>\n",
       "    </tr>\n",
       "    <tr>\n",
       "      <th>2</th>\n",
       "      <td>2019-12-01 00:00:02 UTC</td>\n",
       "      <td>cart</td>\n",
       "      <td>4958</td>\n",
       "      <td>1487580009471148064</td>\n",
       "      <td>NaN</td>\n",
       "      <td>runail</td>\n",
       "      <td>1.19</td>\n",
       "      <td>494077766</td>\n",
       "      <td>c99a50e8-2fac-4c4d-89ec-41c05f114554</td>\n",
       "      <td>A</td>\n",
       "    </tr>\n",
       "    <tr>\n",
       "      <th>3</th>\n",
       "      <td>2019-12-01 00:00:05 UTC</td>\n",
       "      <td>view</td>\n",
       "      <td>5848413</td>\n",
       "      <td>1487580007675986893</td>\n",
       "      <td>NaN</td>\n",
       "      <td>freedecor</td>\n",
       "      <td>0.79</td>\n",
       "      <td>348405118</td>\n",
       "      <td>722ffea5-73c0-4924-8e8f-371ff8031af4</td>\n",
       "      <td>A</td>\n",
       "    </tr>\n",
       "    <tr>\n",
       "      <th>4</th>\n",
       "      <td>2019-12-01 00:00:07 UTC</td>\n",
       "      <td>view</td>\n",
       "      <td>5824148</td>\n",
       "      <td>1487580005511725929</td>\n",
       "      <td>NaN</td>\n",
       "      <td>NaN</td>\n",
       "      <td>5.56</td>\n",
       "      <td>576005683</td>\n",
       "      <td>28172809-7e4a-45ce-bab0-5efa90117cd5</td>\n",
       "      <td>B</td>\n",
       "    </tr>\n",
       "  </tbody>\n",
       "</table>\n",
       "</div>"
      ],
      "text/plain": [
       "                event_time        event_type  product_id          category_id  \\\n",
       "0  2019-12-01 00:00:00 UTC  remove_from_cart  5712790     1487580005268456287   \n",
       "1  2019-12-01 00:00:00 UTC  view              5764655     1487580005411062629   \n",
       "2  2019-12-01 00:00:02 UTC  cart              4958        1487580009471148064   \n",
       "3  2019-12-01 00:00:05 UTC  view              5848413     1487580007675986893   \n",
       "4  2019-12-01 00:00:07 UTC  view              5824148     1487580005511725929   \n",
       "\n",
       "  category_code      brand  price    user_id  \\\n",
       "0  NaN           f.o.x      6.27   576802932   \n",
       "1  NaN           cnd        29.05  412120092   \n",
       "2  NaN           runail     1.19   494077766   \n",
       "3  NaN           freedecor  0.79   348405118   \n",
       "4  NaN           NaN        5.56   576005683   \n",
       "\n",
       "                           user_session group  \n",
       "0  51d85cb0-897f-48d2-918b-ad63965c12dc  A     \n",
       "1  8adff31e-2051-4894-9758-224bfa8aec18  A     \n",
       "2  c99a50e8-2fac-4c4d-89ec-41c05f114554  A     \n",
       "3  722ffea5-73c0-4924-8e8f-371ff8031af4  A     \n",
       "4  28172809-7e4a-45ce-bab0-5efa90117cd5  B     "
      ]
     },
     "execution_count": 27,
     "metadata": {},
     "output_type": "execute_result"
    }
   ],
   "source": [
    "shop_df.head(5)"
   ]
  },
  {
   "cell_type": "markdown",
   "id": "775b862b",
   "metadata": {},
   "source": [
    "# Дизайн АВ-теста: формула MDE"
   ]
  },
  {
   "cell_type": "markdown",
   "id": "3d562ae4",
   "metadata": {},
   "source": [
    "Вспомним, как выглядит формула MDE:"
   ]
  },
  {
   "attachments": {
    "image.png": {
     "image/png": "[encoded data removed]"
    }
   },
   "cell_type": "markdown",
   "id": "96ef7b03",
   "metadata": {},
   "source": [
    "![image.png](attachment:image.png)"
   ]
  },
  {
   "cell_type": "markdown",
   "id": "90549cfb",
   "metadata": {},
   "source": [
    "Как вычислить квантили нормального распределения?\n",
    "\n",
    "Таблицы со значениями можно посмотреть здесь:\n",
    "https://studfile.net/preview/3795082/page:2/ "
   ]
  },
  {
   "cell_type": "code",
   "execution_count": 28,
   "id": "e66b8f88",
   "metadata": {
    "ExecuteTime": {
     "end_time": "2023-11-21T16:07:04.619072Z",
     "start_time": "2023-11-21T16:07:04.602093Z"
    }
   },
   "outputs": [],
   "source": [
    "from scipy.stats import norm"
   ]
  },
  {
   "cell_type": "code",
   "execution_count": 29,
   "id": "3aac4a74",
   "metadata": {
    "ExecuteTime": {
     "end_time": "2023-11-21T16:07:18.851158Z",
     "start_time": "2023-11-21T16:07:18.616785Z"
    }
   },
   "outputs": [
    {
     "data": {
      "text/plain": [
       "1.959963984540054"
      ]
     },
     "execution_count": 29,
     "metadata": {},
     "output_type": "execute_result"
    }
   ],
   "source": [
    "norm.ppf(1-(0.05 / 2), loc=0, scale=1)"
   ]
  },
  {
   "cell_type": "code",
   "execution_count": 30,
   "id": "d75eec05",
   "metadata": {
    "ExecuteTime": {
     "end_time": "2023-11-21T16:07:29.530159Z",
     "start_time": "2023-11-21T16:07:29.513206Z"
    }
   },
   "outputs": [
    {
     "data": {
      "text/plain": [
       "0.8416212335729143"
      ]
     },
     "execution_count": 30,
     "metadata": {},
     "output_type": "execute_result"
    }
   ],
   "source": [
    "norm.ppf(1-0.2, loc=0, scale=1)"
   ]
  },
  {
   "cell_type": "markdown",
   "id": "ec4fa60f",
   "metadata": {},
   "source": [
    "Теперь можем написать функцию:"
   ]
  },
  {
   "cell_type": "code",
   "execution_count": 31,
   "id": "b535f235",
   "metadata": {
    "ExecuteTime": {
     "end_time": "2023-11-21T16:07:49.083256Z",
     "start_time": "2023-11-21T16:07:49.064308Z"
    }
   },
   "outputs": [],
   "source": [
    "def get_mde(metric_vec, alpha=0.05, beta=0.2):\n",
    "    \n",
    "    metric_mean, metric_std, metric_n = metric_vec.mean(), metric_vec.std(), metric_vec.count()\n",
    "    \n",
    "    z_alpha = norm.ppf(1 - (alpha / 2), loc=0, scale=1)\n",
    "    z_beta = norm.ppf(1 - beta, loc=0, scale=1)\n",
    "    \n",
    "    mde = (z_alpha + z_beta)*metric_std / np.sqrt(metric_n)\n",
    "    \n",
    "    return mde*100/metric_mean"
   ]
  },
  {
   "cell_type": "markdown",
   "id": "67d965a8",
   "metadata": {},
   "source": [
    "Опробуем на сгенерированной поюзерной метрике"
   ]
  },
  {
   "cell_type": "code",
   "execution_count": 33,
   "id": "19796364",
   "metadata": {
    "ExecuteTime": {
     "end_time": "2023-11-21T16:10:42.425060Z",
     "start_time": "2023-11-21T16:10:41.972162Z"
    }
   },
   "outputs": [],
   "source": [
    "shop_df_users = shop_df[['user_id', 'group']].drop_duplicates()\n",
    "shop_df_users['metric'] = np.random.randint(100, size=shop_df_users.shape[0])"
   ]
  },
  {
   "cell_type": "code",
   "execution_count": 34,
   "id": "0424b3d1",
   "metadata": {
    "ExecuteTime": {
     "end_time": "2023-11-21T16:10:44.582655Z",
     "start_time": "2023-11-21T16:10:44.568718Z"
    }
   },
   "outputs": [
    {
     "data": {
      "text/html": [
       "<div>\n",
       "<style scoped>\n",
       "    .dataframe tbody tr th:only-of-type {\n",
       "        vertical-align: middle;\n",
       "    }\n",
       "\n",
       "    .dataframe tbody tr th {\n",
       "        vertical-align: top;\n",
       "    }\n",
       "\n",
       "    .dataframe thead th {\n",
       "        text-align: right;\n",
       "    }\n",
       "</style>\n",
       "<table border=\"1\" class=\"dataframe\">\n",
       "  <thead>\n",
       "    <tr style=\"text-align: right;\">\n",
       "      <th></th>\n",
       "      <th>user_id</th>\n",
       "      <th>group</th>\n",
       "      <th>metric</th>\n",
       "    </tr>\n",
       "  </thead>\n",
       "  <tbody>\n",
       "    <tr>\n",
       "      <th>0</th>\n",
       "      <td>576802932</td>\n",
       "      <td>A</td>\n",
       "      <td>6</td>\n",
       "    </tr>\n",
       "    <tr>\n",
       "      <th>1</th>\n",
       "      <td>412120092</td>\n",
       "      <td>A</td>\n",
       "      <td>94</td>\n",
       "    </tr>\n",
       "    <tr>\n",
       "      <th>2</th>\n",
       "      <td>494077766</td>\n",
       "      <td>A</td>\n",
       "      <td>25</td>\n",
       "    </tr>\n",
       "    <tr>\n",
       "      <th>3</th>\n",
       "      <td>348405118</td>\n",
       "      <td>A</td>\n",
       "      <td>93</td>\n",
       "    </tr>\n",
       "    <tr>\n",
       "      <th>4</th>\n",
       "      <td>576005683</td>\n",
       "      <td>B</td>\n",
       "      <td>98</td>\n",
       "    </tr>\n",
       "  </tbody>\n",
       "</table>\n",
       "</div>"
      ],
      "text/plain": [
       "     user_id group  metric\n",
       "0  576802932  A     6     \n",
       "1  412120092  A     94    \n",
       "2  494077766  A     25    \n",
       "3  348405118  A     93    \n",
       "4  576005683  B     98    "
      ]
     },
     "execution_count": 34,
     "metadata": {},
     "output_type": "execute_result"
    }
   ],
   "source": [
    "shop_df_users.head()"
   ]
  },
  {
   "cell_type": "code",
   "execution_count": 35,
   "id": "3d54e6b1",
   "metadata": {
    "ExecuteTime": {
     "end_time": "2023-11-21T16:11:27.773225Z",
     "start_time": "2023-11-21T16:11:27.754274Z"
    }
   },
   "outputs": [
    {
     "data": {
      "text/plain": [
       "0.26855663403206553"
      ]
     },
     "execution_count": 35,
     "metadata": {},
     "output_type": "execute_result"
    }
   ],
   "source": [
    "get_mde(shop_df_users['metric'], alpha=0.05, beta=0.2)"
   ]
  },
  {
   "cell_type": "code",
   "execution_count": 38,
   "id": "a3dd6499",
   "metadata": {
    "ExecuteTime": {
     "end_time": "2023-11-21T16:12:34.482422Z",
     "start_time": "2023-11-21T16:12:34.465444Z"
    }
   },
   "outputs": [
    {
     "data": {
      "text/plain": [
       "0.23814823221372727"
      ]
     },
     "execution_count": 38,
     "metadata": {},
     "output_type": "execute_result"
    }
   ],
   "source": [
    "get_mde(shop_df_users['metric'], alpha=0.05, beta=0.3)"
   ]
  },
  {
   "cell_type": "markdown",
   "id": "b33e1fd2",
   "metadata": {},
   "source": [
    "# Пример дизайна"
   ]
  },
  {
   "cell_type": "code",
   "execution_count": null,
   "id": "b5f443d7",
   "metadata": {
    "ExecuteTime": {
     "end_time": "2023-11-19T20:26:30.556964Z",
     "start_time": "2023-11-19T20:26:19.994518Z"
    }
   },
   "outputs": [],
   "source": [
    "import requests\n",
    "\n",
    "# download dataset by chunks\n",
    "url = \"https://github.com/sharthZ23/your-second-recsys/raw/master/data_kion.zip\"\n",
    "\n",
    "req = requests.get(url, stream=True)\n",
    "\n",
    "with open('data_kion.zip', \"wb\") as fd:\n",
    "    total_size_in_bytes = int(req.headers.get('Content-Length', 0))\n",
    "    progress_bar = tqdm(desc='kion dataset download', total=total_size_in_bytes, unit='iB', unit_scale=True)\n",
    "    for chunk in req.iter_content(chunk_size=2 ** 20):\n",
    "        progress_bar.update(len(chunk))\n",
    "        fd.write(chunk)"
   ]
  },
  {
   "cell_type": "code",
   "execution_count": null,
   "id": "c888c6a6",
   "metadata": {
    "ExecuteTime": {
     "end_time": "2023-11-19T19:11:50.448813Z",
     "start_time": "2023-11-19T19:11:49.226752Z"
    }
   },
   "outputs": [],
   "source": [
    "# Распаковываем архив из 3 файлов\n",
    "import zipfile\n",
    " \n",
    "with zipfile.ZipFile('data_kion.zip', 'r') as zip_ref:\n",
    "    zip_ref.extractall()"
   ]
  },
  {
   "cell_type": "markdown",
   "id": "8366f427",
   "metadata": {},
   "source": [
    "# 📺 Данные: датасет КИОН\n",
    "- **просмотры** фильмов и сериалов в приложении KION\n",
    "- данные о пользователях\n",
    "- данные об айтемах (фильмы, сериалы и т.д.)"
   ]
  },
  {
   "cell_type": "code",
   "execution_count": 39,
   "id": "601e0f2d",
   "metadata": {
    "ExecuteTime": {
     "end_time": "2023-11-21T16:28:23.160768Z",
     "start_time": "2023-11-21T16:28:19.955956Z"
    }
   },
   "outputs": [],
   "source": [
    "interactions = pd.read_csv('data_kion/interactions_df.csv')\n",
    "users = pd.read_csv('data_kion/users.csv')\n",
    "items = pd.read_csv('data_kion/items.csv')"
   ]
  },
  {
   "cell_type": "code",
   "execution_count": 40,
   "id": "a97eed80",
   "metadata": {
    "ExecuteTime": {
     "end_time": "2023-11-21T16:28:32.615794Z",
     "start_time": "2023-11-21T16:28:32.592854Z"
    }
   },
   "outputs": [
    {
     "data": {
      "text/html": [
       "<div>\n",
       "<style scoped>\n",
       "    .dataframe tbody tr th:only-of-type {\n",
       "        vertical-align: middle;\n",
       "    }\n",
       "\n",
       "    .dataframe tbody tr th {\n",
       "        vertical-align: top;\n",
       "    }\n",
       "\n",
       "    .dataframe thead th {\n",
       "        text-align: right;\n",
       "    }\n",
       "</style>\n",
       "<table border=\"1\" class=\"dataframe\">\n",
       "  <thead>\n",
       "    <tr style=\"text-align: right;\">\n",
       "      <th></th>\n",
       "      <th>user_id</th>\n",
       "      <th>item_id</th>\n",
       "      <th>last_watch_dt</th>\n",
       "      <th>total_dur</th>\n",
       "      <th>watched_pct</th>\n",
       "    </tr>\n",
       "  </thead>\n",
       "  <tbody>\n",
       "    <tr>\n",
       "      <th>0</th>\n",
       "      <td>176549</td>\n",
       "      <td>9506</td>\n",
       "      <td>2021-05-11</td>\n",
       "      <td>4250</td>\n",
       "      <td>72.0</td>\n",
       "    </tr>\n",
       "    <tr>\n",
       "      <th>1</th>\n",
       "      <td>699317</td>\n",
       "      <td>1659</td>\n",
       "      <td>2021-05-29</td>\n",
       "      <td>8317</td>\n",
       "      <td>100.0</td>\n",
       "    </tr>\n",
       "    <tr>\n",
       "      <th>2</th>\n",
       "      <td>656683</td>\n",
       "      <td>7107</td>\n",
       "      <td>2021-05-09</td>\n",
       "      <td>10</td>\n",
       "      <td>0.0</td>\n",
       "    </tr>\n",
       "    <tr>\n",
       "      <th>3</th>\n",
       "      <td>864613</td>\n",
       "      <td>7638</td>\n",
       "      <td>2021-07-05</td>\n",
       "      <td>14483</td>\n",
       "      <td>100.0</td>\n",
       "    </tr>\n",
       "    <tr>\n",
       "      <th>4</th>\n",
       "      <td>964868</td>\n",
       "      <td>9506</td>\n",
       "      <td>2021-04-30</td>\n",
       "      <td>6725</td>\n",
       "      <td>100.0</td>\n",
       "    </tr>\n",
       "    <tr>\n",
       "      <th>5476246</th>\n",
       "      <td>648596</td>\n",
       "      <td>12225</td>\n",
       "      <td>2021-08-13</td>\n",
       "      <td>76</td>\n",
       "      <td>0.0</td>\n",
       "    </tr>\n",
       "    <tr>\n",
       "      <th>5476247</th>\n",
       "      <td>546862</td>\n",
       "      <td>9673</td>\n",
       "      <td>2021-04-13</td>\n",
       "      <td>2308</td>\n",
       "      <td>49.0</td>\n",
       "    </tr>\n",
       "    <tr>\n",
       "      <th>5476248</th>\n",
       "      <td>697262</td>\n",
       "      <td>15297</td>\n",
       "      <td>2021-08-20</td>\n",
       "      <td>18307</td>\n",
       "      <td>63.0</td>\n",
       "    </tr>\n",
       "    <tr>\n",
       "      <th>5476249</th>\n",
       "      <td>384202</td>\n",
       "      <td>16197</td>\n",
       "      <td>2021-04-19</td>\n",
       "      <td>6203</td>\n",
       "      <td>100.0</td>\n",
       "    </tr>\n",
       "    <tr>\n",
       "      <th>5476250</th>\n",
       "      <td>319709</td>\n",
       "      <td>4436</td>\n",
       "      <td>2021-08-15</td>\n",
       "      <td>3921</td>\n",
       "      <td>45.0</td>\n",
       "    </tr>\n",
       "  </tbody>\n",
       "</table>\n",
       "</div>"
      ],
      "text/plain": [
       "         user_id  item_id last_watch_dt  total_dur  watched_pct\n",
       "0        176549   9506     2021-05-11    4250       72.0       \n",
       "1        699317   1659     2021-05-29    8317       100.0      \n",
       "2        656683   7107     2021-05-09    10         0.0        \n",
       "3        864613   7638     2021-07-05    14483      100.0      \n",
       "4        964868   9506     2021-04-30    6725       100.0      \n",
       "5476246  648596   12225    2021-08-13    76         0.0        \n",
       "5476247  546862   9673     2021-04-13    2308       49.0       \n",
       "5476248  697262   15297    2021-08-20    18307      63.0       \n",
       "5476249  384202   16197    2021-04-19    6203       100.0      \n",
       "5476250  319709   4436     2021-08-15    3921       45.0       "
      ]
     },
     "execution_count": 40,
     "metadata": {},
     "output_type": "execute_result"
    }
   ],
   "source": [
    "interactions.head(5).append(interactions.tail())\n",
    "\n",
    "# user_id - уникальный идентификатор пользователя\n",
    "# item_id - уникальный идентификатор контента\n",
    "# last_watch_dt - последняя дата просмотра юзером определенного контента\n",
    "# total_dur - суммарная продолжительность просмотра определенного контента юзером (в секундах)\n",
    "# watched_pct - процент просмотренного контента от общей продолжительности"
   ]
  },
  {
   "cell_type": "code",
   "execution_count": 41,
   "id": "e1d1ad5a",
   "metadata": {
    "ExecuteTime": {
     "end_time": "2023-11-21T16:29:22.185005Z",
     "start_time": "2023-11-21T16:29:22.168050Z"
    }
   },
   "outputs": [
    {
     "data": {
      "text/html": [
       "<div>\n",
       "<style scoped>\n",
       "    .dataframe tbody tr th:only-of-type {\n",
       "        vertical-align: middle;\n",
       "    }\n",
       "\n",
       "    .dataframe tbody tr th {\n",
       "        vertical-align: top;\n",
       "    }\n",
       "\n",
       "    .dataframe thead th {\n",
       "        text-align: right;\n",
       "    }\n",
       "</style>\n",
       "<table border=\"1\" class=\"dataframe\">\n",
       "  <thead>\n",
       "    <tr style=\"text-align: right;\">\n",
       "      <th></th>\n",
       "      <th>user_id</th>\n",
       "      <th>age</th>\n",
       "      <th>income</th>\n",
       "      <th>sex</th>\n",
       "      <th>kids_flg</th>\n",
       "    </tr>\n",
       "  </thead>\n",
       "  <tbody>\n",
       "    <tr>\n",
       "      <th>0</th>\n",
       "      <td>973171</td>\n",
       "      <td>age_25_34</td>\n",
       "      <td>income_60_90</td>\n",
       "      <td>М</td>\n",
       "      <td>1</td>\n",
       "    </tr>\n",
       "    <tr>\n",
       "      <th>1</th>\n",
       "      <td>962099</td>\n",
       "      <td>age_18_24</td>\n",
       "      <td>income_20_40</td>\n",
       "      <td>М</td>\n",
       "      <td>0</td>\n",
       "    </tr>\n",
       "    <tr>\n",
       "      <th>2</th>\n",
       "      <td>1047345</td>\n",
       "      <td>age_45_54</td>\n",
       "      <td>income_40_60</td>\n",
       "      <td>Ж</td>\n",
       "      <td>0</td>\n",
       "    </tr>\n",
       "    <tr>\n",
       "      <th>3</th>\n",
       "      <td>721985</td>\n",
       "      <td>age_45_54</td>\n",
       "      <td>income_20_40</td>\n",
       "      <td>Ж</td>\n",
       "      <td>0</td>\n",
       "    </tr>\n",
       "    <tr>\n",
       "      <th>4</th>\n",
       "      <td>704055</td>\n",
       "      <td>age_35_44</td>\n",
       "      <td>income_60_90</td>\n",
       "      <td>Ж</td>\n",
       "      <td>0</td>\n",
       "    </tr>\n",
       "  </tbody>\n",
       "</table>\n",
       "</div>"
      ],
      "text/plain": [
       "   user_id        age        income sex  kids_flg\n",
       "0  973171   age_25_34  income_60_90  М   1       \n",
       "1  962099   age_18_24  income_20_40  М   0       \n",
       "2  1047345  age_45_54  income_40_60  Ж   0       \n",
       "3  721985   age_45_54  income_20_40  Ж   0       \n",
       "4  704055   age_35_44  income_60_90  Ж   0       "
      ]
     },
     "execution_count": 41,
     "metadata": {},
     "output_type": "execute_result"
    }
   ],
   "source": [
    "users.head()\n",
    "\n",
    "# user_id - уникальный идентификатор пользователя\n",
    "# kids_flg = 0 - детей нет, если 1 - дети есть\n",
    "# income - группа, в которую юзер отнесен по доходу\n",
    "# age - группа, в которую юзер отнесен по возрасту\n",
    "# sex - пол"
   ]
  },
  {
   "cell_type": "code",
   "execution_count": 42,
   "id": "eb7e3a1d",
   "metadata": {
    "ExecuteTime": {
     "end_time": "2023-11-21T16:30:10.869349Z",
     "start_time": "2023-11-21T16:30:10.682847Z"
    }
   },
   "outputs": [
    {
     "data": {
      "text/html": [
       "<div>\n",
       "<style scoped>\n",
       "    .dataframe tbody tr th:only-of-type {\n",
       "        vertical-align: middle;\n",
       "    }\n",
       "\n",
       "    .dataframe tbody tr th {\n",
       "        vertical-align: top;\n",
       "    }\n",
       "\n",
       "    .dataframe thead th {\n",
       "        text-align: right;\n",
       "    }\n",
       "</style>\n",
       "<table border=\"1\" class=\"dataframe\">\n",
       "  <thead>\n",
       "    <tr style=\"text-align: right;\">\n",
       "      <th></th>\n",
       "      <th>age</th>\n",
       "      <th>user_id</th>\n",
       "    </tr>\n",
       "  </thead>\n",
       "  <tbody>\n",
       "    <tr>\n",
       "      <th>0</th>\n",
       "      <td>age_18_24</td>\n",
       "      <td>127672</td>\n",
       "    </tr>\n",
       "    <tr>\n",
       "      <th>1</th>\n",
       "      <td>age_25_34</td>\n",
       "      <td>233926</td>\n",
       "    </tr>\n",
       "    <tr>\n",
       "      <th>2</th>\n",
       "      <td>age_35_44</td>\n",
       "      <td>207043</td>\n",
       "    </tr>\n",
       "    <tr>\n",
       "      <th>3</th>\n",
       "      <td>age_45_54</td>\n",
       "      <td>135925</td>\n",
       "    </tr>\n",
       "    <tr>\n",
       "      <th>4</th>\n",
       "      <td>age_55_64</td>\n",
       "      <td>75265</td>\n",
       "    </tr>\n",
       "    <tr>\n",
       "      <th>5</th>\n",
       "      <td>age_65_inf</td>\n",
       "      <td>46271</td>\n",
       "    </tr>\n",
       "  </tbody>\n",
       "</table>\n",
       "</div>"
      ],
      "text/plain": [
       "          age  user_id\n",
       "0  age_18_24   127672 \n",
       "1  age_25_34   233926 \n",
       "2  age_35_44   207043 \n",
       "3  age_45_54   135925 \n",
       "4  age_55_64   75265  \n",
       "5  age_65_inf  46271  "
      ]
     },
     "execution_count": 42,
     "metadata": {},
     "output_type": "execute_result"
    }
   ],
   "source": [
    "users.groupby('age', as_index=False).count()[['age', 'user_id']]"
   ]
  },
  {
   "cell_type": "code",
   "execution_count": 43,
   "id": "314ebae1",
   "metadata": {
    "ExecuteTime": {
     "end_time": "2023-11-21T16:30:32.691809Z",
     "start_time": "2023-11-21T16:30:32.673858Z"
    },
    "collapsed": true,
    "jupyter": {
     "outputs_hidden": true
    }
   },
   "outputs": [
    {
     "data": {
      "text/html": [
       "<div>\n",
       "<style scoped>\n",
       "    .dataframe tbody tr th:only-of-type {\n",
       "        vertical-align: middle;\n",
       "    }\n",
       "\n",
       "    .dataframe tbody tr th {\n",
       "        vertical-align: top;\n",
       "    }\n",
       "\n",
       "    .dataframe thead th {\n",
       "        text-align: right;\n",
       "    }\n",
       "</style>\n",
       "<table border=\"1\" class=\"dataframe\">\n",
       "  <thead>\n",
       "    <tr style=\"text-align: right;\">\n",
       "      <th></th>\n",
       "      <th>item_id</th>\n",
       "      <th>content_type</th>\n",
       "      <th>title</th>\n",
       "      <th>title_orig</th>\n",
       "      <th>release_year</th>\n",
       "      <th>genres</th>\n",
       "      <th>countries</th>\n",
       "      <th>for_kids</th>\n",
       "      <th>age_rating</th>\n",
       "      <th>studios</th>\n",
       "      <th>directors</th>\n",
       "      <th>actors</th>\n",
       "      <th>description</th>\n",
       "      <th>keywords</th>\n",
       "    </tr>\n",
       "  </thead>\n",
       "  <tbody>\n",
       "    <tr>\n",
       "      <th>0</th>\n",
       "      <td>10711</td>\n",
       "      <td>film</td>\n",
       "      <td>Поговори с ней</td>\n",
       "      <td>Hable con ella</td>\n",
       "      <td>2002.0</td>\n",
       "      <td>драмы, зарубежные, детективы, мелодрамы</td>\n",
       "      <td>Испания</td>\n",
       "      <td>NaN</td>\n",
       "      <td>16.0</td>\n",
       "      <td>NaN</td>\n",
       "      <td>Педро Альмодовар</td>\n",
       "      <td>Адольфо Фернандес, Ана Фернандес, Дарио Грандинетти, Джеральдин Чаплин, Елена Анайя, Каэтано Велозо, Леонор Уотлинг, Лола Дуэньяс, Лолес Леон, Малу Айродо, Мариола Фуэнтес, Пас Вега, Пина Бауш, Роберто Альварес, Росарио Флорес, Феле Мартинес, Хавьер Камара, Хосе Санчо, Чус Лампреаве, Элио Педрегаль</td>\n",
       "      <td>Мелодрама легендарного Педро Альмодовара «Поговори с ней» в 2003 году получила премию «Оскар» за лучший сценарий.  Журналист Марко берет интервью у знаменитой женщины-тореро Лидии и вскоре влюбляется в нее. Однако он не успевает признаться ей в любви – их разлучает страшная трагедия: бык на корриде бросается на несчастную Лидию, и та впадает в кому. Марко дни и ночи проводит у ее постели в больнице, но никаких улучшений не предвидится. Вскоре Марко знакомится в больнице с Бениньо, человеком, который уже не первый год ухаживает за своей возлюбленной Алисией, которая тоже лежит в коме. Объединенные общим горе мужчины сближаются, и однажды Бениньо дает страдающему Марко простой совет: «Поговори с ней». С тех пор Марко ведет с бесчувственной Лидией долгие разговоры, которые одни только и могут изменить ситуацию к лучшему и спасти влюбленных. Для того чтобы узнать, как дальше будут развиваться события, рекомендуем смотреть онлайн «Поговори с ней».</td>\n",
       "      <td>Поговори, ней, 2002, Испания, друзья, любовь, сильные, женщины, преодоление, трудностей, отношения, дружба, отношения, паре, отношения, мужчины, женщины, романтические, отношения, потеря, близких, флешбек, видения, несчастный, случай, разговоры, любовники, кома</td>\n",
       "    </tr>\n",
       "    <tr>\n",
       "      <th>1</th>\n",
       "      <td>2508</td>\n",
       "      <td>film</td>\n",
       "      <td>Голые перцы</td>\n",
       "      <td>Search Party</td>\n",
       "      <td>2014.0</td>\n",
       "      <td>зарубежные, приключения, комедии</td>\n",
       "      <td>США</td>\n",
       "      <td>NaN</td>\n",
       "      <td>16.0</td>\n",
       "      <td>NaN</td>\n",
       "      <td>Скот Армстронг</td>\n",
       "      <td>Адам Палли, Брайан Хаски, Дж.Б. Смув, Джейсон Манцукас, Джон Глейсер, Карл Грин, Кристен Риттер, Лэнс Реддик, Морис Комт, Патрик Кернс, Ребекка Коллинз, Роза Салазар, Росс П. Кук, Стеффи Гроут, ТиДжей Миллер, Томас Миддлдитч, Трэйси Вилар, Тэрин Террелл, Шеннон Мари Вудворд, Элисон Бри</td>\n",
       "      <td>Уморительная современная комедия на популярную тему о том, как не надо отмечать мальчишник. Главный герой усвоил, что не надо звать на свадьбу своего друга Джейсона, из-за которого он вместо свадебного путешествия окажется в Мексике, среди бандитов, голый и измазанный в кокаине… Режиссером фильма стал Скот Армстронг - сценарист фильма «Старски и Хач» и продюсер нашумевшей комедии «Мальчишник 2: Из Вегаса в Бангкок». Главные роли исполнили ТиДжей Миллер («Монстро»), Томас Миддлдитч («Волк с Уолл-стрит») и Адам Палли («Железный человек 3»). Нардо собирается жениться на любимой девушке Трейси. Однако прямо во время церемонии к алтарю пробивается его друг Джейсон, который уверяет, что Нардо сам вчера говорил, будто Трейси ему не пара. Обиженная невеста отправляется в свадебное путешествие в Мексику одна, а Нардо следует за ней по пятам. Однако вскоре у него крадут деньги, документы и машину, так он оказывается голым посреди пустыни… Как герой выберется из этой переделки, вы узнаете, если решите смотреть онлайн «Голые перцы».</td>\n",
       "      <td>Голые, перцы, 2014, США, друзья, свадьбы, преодоление, трудностей, расставания, отношения, дружба, риск, недоразумение, мужская, дружба, мальчишники, девичники</td>\n",
       "    </tr>\n",
       "    <tr>\n",
       "      <th>2</th>\n",
       "      <td>10716</td>\n",
       "      <td>film</td>\n",
       "      <td>Тактическая сила</td>\n",
       "      <td>Tactical Force</td>\n",
       "      <td>2011.0</td>\n",
       "      <td>криминал, зарубежные, триллеры, боевики, комедии</td>\n",
       "      <td>Канада</td>\n",
       "      <td>NaN</td>\n",
       "      <td>16.0</td>\n",
       "      <td>NaN</td>\n",
       "      <td>Адам П. Калтраро</td>\n",
       "      <td>Адриан Холмс, Даррен Шалави, Джерри Вассерман, Дэн Риззуто, Кендес Илэйн Калтраро, Кит Джардин, Лекса Дойг, Майкл Джей Уайт, Майкл Шэнкс, Майкл Эклунд, Питер Брайант, Питер Кент, Стив Бачич, Стив Остин</td>\n",
       "      <td>Профессиональный рестлер Стив Остин («Все или ничего») и темнокожий мачо Майкл Джей Уайт («Темный рыцарь») в интригующем криминальном боевике. В центре сюжета – команда спецназовцев, которая оказалась между двумя воюющими бандитскими группировками…  Говорят, что в спецназе нет более жестокого учителя и более профессионального бойца, чем капитан Тейт. Он заставляет своих рекрутов пройти жесткую школу, но зато после него они становятся высококлассными бойцами, которым все по плечу. Команда капитана прибывает для учений в заброшенный самолетный амбар, находящийся недалеко от города и давно превращенный в место для штатных учений. Однако вскоре оказывается, что именно здесь устраивают кровавые разборки две враждующие бандитские группировки. Лишние свидетели им ни к чему, поэтому они решают объединить усилия, чтобы без шума разделаться с новоприбывшими спецназовцами. Теперь капитану Тейту и его ученикам придется применить свои навыки на практике. Удастся ли им это, вы узнаете, если решите смотреть онлайн «Тактическая сила».</td>\n",
       "      <td>Тактическая, сила, 2011, Канада, бандиты, гангстеры, преступления, преодоление, трудностей, убийства, убийцы, настоящие, мужчины, риск, недоразумение, силы, правопорядка, борьба, за, выживание, спецназ, коллектив, команда, перестрелки, враги, или, вражда</td>\n",
       "    </tr>\n",
       "    <tr>\n",
       "      <th>3</th>\n",
       "      <td>7868</td>\n",
       "      <td>film</td>\n",
       "      <td>45 лет</td>\n",
       "      <td>45 Years</td>\n",
       "      <td>2015.0</td>\n",
       "      <td>драмы, зарубежные, мелодрамы</td>\n",
       "      <td>Великобритания</td>\n",
       "      <td>NaN</td>\n",
       "      <td>16.0</td>\n",
       "      <td>NaN</td>\n",
       "      <td>Эндрю Хэй</td>\n",
       "      <td>Александра Риддлстон-Барретт, Джеральдин Джеймс, Долли Уэллс, Дэвид Сибли, Камилла Юкан, Кевин Матадин, Люси Темпл, Макс Радд, Мартин Эткинсон, Мишель Финч, Питер Дин Джексон, Пол Голдсмит, Ричард Каннингэм, Рэйчел Бенхем, Сэм Александр, Том Кортни, Ханна Чалмерс, Чарльз Бут, Шарлотта Рэмплинг, Эль Тивэй</td>\n",
       "      <td>Шарлотта Рэмплинг, Том Кортни, Джеральдин Джеймс и Долли Уэллс в драме Эндрю Хэйя.  Супруги Кейт и Джефф Мерсеры готовятся к важной дате – с того дня, как они поженились, прошло целых сорок пять лет. Желание устроить пышное празднество объясняется еще и тем, что пять лет назад супруги должны были отметить сорокалетний юбилей, но торжественный вечер пришлось отменить – Джеффу назначили операцию на сердце. Все вокруг дышит предпраздничной суетой, пока неожиданно не приходит известие: в Швейцарии нашли тело Кати – первой возлюбленной Джеффа, которая погибла в Альпах полвека назад. Для крепкого, выстроенного брака эта новость становится настоящим испытанием на прочность. Джефф предается воспоминаниям о своей юной любви и задается вопросом, как бы сложилась его жизнь, если бы Катя не погибла и все эти десятилетия провела с ним.  Для того чтобы узнать, выдержит ли полувековой союз супругов неожиданное испытание и к какому решению в итоге придут герои, рекомендуем смотреть онлайн «45 лет».</td>\n",
       "      <td>45, лет, 2015, Великобритания, брак, жизнь, любовь, психология, семейные, проблемы, семья, отношения, конфликты, отношениях, отношения, паре, отношения, мужчины, женщины, семейный, конфликт, смерть</td>\n",
       "    </tr>\n",
       "    <tr>\n",
       "      <th>4</th>\n",
       "      <td>16268</td>\n",
       "      <td>film</td>\n",
       "      <td>Все решает мгновение</td>\n",
       "      <td>NaN</td>\n",
       "      <td>1978.0</td>\n",
       "      <td>драмы, спорт, советские, мелодрамы</td>\n",
       "      <td>СССР</td>\n",
       "      <td>NaN</td>\n",
       "      <td>12.0</td>\n",
       "      <td>Ленфильм</td>\n",
       "      <td>Виктор Садовский</td>\n",
       "      <td>Александр Абдулов, Александр Демьяненко, Алексей Васильев, Анатолий Папанов, Андрей Данилов, Борис Зайденберг, Борис Коковкин, Виктор Карасев, Галина Беляева, Е. Рахманова, Елена Аржаник, Ирина Савина, Мария Миронова, Михаил Поляк, Н. Батова, Наталья Фатеева, Николай Озеров, Ножери Чонишвили, Ольга Агеева, Петр Шелохонов</td>\n",
       "      <td>Расчетливая чаровница из советского кинохита «Мой ласковый и нежный зверь», актриса-дебютантка Галина Беляева снова становится неопытным и робким подростком в спортивном фильме  «Все решает мгновение». Круг ее наставников и самых верных болельщиков составили герои Александра Абдулова, Александра Демьяненко, Анатолия Папанова, Натальи Фатеевой. Историю взлетов и падений начинающей пловчихи обрамляет музыка Александра Журбина и стихи Роберта Рождественского. За свой вдохновляющий фильм о спорте мастер жанра Виктор Садовский взял призы на тематических фестивалях в Ереване, в Ашхабаде и Ленинграде.   Пятнадцатилетняя Надя – настоящий ребенок морей. Она всю жизнь провела на побережье и плавала вместе с дельфинами, пока не попала под крыло молодого тренера. Он выводит свою подопечную на новый уровень – районные соревнования по плаванию. Оттуда, не успевая опомниться, одаренная Надя попадает в Москву. Профессиональные спортсменки без радушия встречают «самородка» из провинции: Надя с легкостью бьет рекорды, которых они достигали самоотверженным трудом. Но одно дело побеждать среди своих, и совсем другое – показать себя на международных состязаниях, под объективами телекамер и взглядами миллионной публики.  Для того чтобы увидеть, как талант и призвание будут бороться со страхами, приглашаем посмотреть онлайн фильм «Все решает мгновение».</td>\n",
       "      <td>Все, решает, мгновение, 1978, СССР, сильные, женщины, спорт, преодоление, трудностей, мечта, соперничество, подростки, женщины, успех, коллектив, команда, фобии, спортсмены, отношения, между, тренером, подопечным</td>\n",
       "    </tr>\n",
       "  </tbody>\n",
       "</table>\n",
       "</div>"
      ],
      "text/plain": [
       "   item_id content_type                 title      title_orig  release_year  \\\n",
       "0  10711    film         Поговори с ней        Hable con ella  2002.0         \n",
       "1  2508     film         Голые перцы           Search Party    2014.0         \n",
       "2  10716    film         Тактическая сила      Tactical Force  2011.0         \n",
       "3  7868     film         45 лет                45 Years        2015.0         \n",
       "4  16268    film         Все решает мгновение  NaN             1978.0         \n",
       "\n",
       "                                             genres       countries  for_kids  \\\n",
       "0  драмы, зарубежные, детективы, мелодрамы           Испания        NaN         \n",
       "1  зарубежные, приключения, комедии                  США            NaN         \n",
       "2  криминал, зарубежные, триллеры, боевики, комедии  Канада         NaN         \n",
       "3  драмы, зарубежные, мелодрамы                      Великобритания NaN         \n",
       "4  драмы, спорт, советские, мелодрамы                СССР           NaN         \n",
       "\n",
       "   age_rating   studios         directors  \\\n",
       "0  16.0        NaN       Педро Альмодовар   \n",
       "1  16.0        NaN       Скот Армстронг     \n",
       "2  16.0        NaN       Адам П. Калтраро   \n",
       "3  16.0        NaN       Эндрю Хэй          \n",
       "4  12.0        Ленфильм  Виктор Садовский   \n",
       "\n",
       "                                                                                                                                                                                                                                                                                                                               actors  \\\n",
       "0  Адольфо Фернандес, Ана Фернандес, Дарио Грандинетти, Джеральдин Чаплин, Елена Анайя, Каэтано Велозо, Леонор Уотлинг, Лола Дуэньяс, Лолес Леон, Малу Айродо, Мариола Фуэнтес, Пас Вега, Пина Бауш, Роберто Альварес, Росарио Флорес, Феле Мартинес, Хавьер Камара, Хосе Санчо, Чус Лампреаве, Элио Педрегаль                          \n",
       "1  Адам Палли, Брайан Хаски, Дж.Б. Смув, Джейсон Манцукас, Джон Глейсер, Карл Грин, Кристен Риттер, Лэнс Реддик, Морис Комт, Патрик Кернс, Ребекка Коллинз, Роза Салазар, Росс П. Кук, Стеффи Гроут, ТиДжей Миллер, Томас Миддлдитч, Трэйси Вилар, Тэрин Террелл, Шеннон Мари Вудворд, Элисон Бри                                       \n",
       "2  Адриан Холмс, Даррен Шалави, Джерри Вассерман, Дэн Риззуто, Кендес Илэйн Калтраро, Кит Джардин, Лекса Дойг, Майкл Джей Уайт, Майкл Шэнкс, Майкл Эклунд, Питер Брайант, Питер Кент, Стив Бачич, Стив Остин                                                                                                                            \n",
       "3  Александра Риддлстон-Барретт, Джеральдин Джеймс, Долли Уэллс, Дэвид Сибли, Камилла Юкан, Кевин Матадин, Люси Темпл, Макс Радд, Мартин Эткинсон, Мишель Финч, Питер Дин Джексон, Пол Голдсмит, Ричард Каннингэм, Рэйчел Бенхем, Сэм Александр, Том Кортни, Ханна Чалмерс, Чарльз Бут, Шарлотта Рэмплинг, Эль Тивэй                    \n",
       "4  Александр Абдулов, Александр Демьяненко, Алексей Васильев, Анатолий Папанов, Андрей Данилов, Борис Зайденберг, Борис Коковкин, Виктор Карасев, Галина Беляева, Е. Рахманова, Елена Аржаник, Ирина Савина, Мария Миронова, Михаил Поляк, Н. Батова, Наталья Фатеева, Николай Озеров, Ножери Чонишвили, Ольга Агеева, Петр Шелохонов   \n",
       "\n",
       "                                                                                                                                                                                                                                                                                                                                                                                                                                                                                                                                                                                                                                                                                                                                                                                                                                                                                                                                                                                                                                                                                                                                                                                                                                                                                                                                                                                                description  \\\n",
       "0  Мелодрама легендарного Педро Альмодовара «Поговори с ней» в 2003 году получила премию «Оскар» за лучший сценарий.  Журналист Марко берет интервью у знаменитой женщины-тореро Лидии и вскоре влюбляется в нее. Однако он не успевает признаться ей в любви – их разлучает страшная трагедия: бык на корриде бросается на несчастную Лидию, и та впадает в кому. Марко дни и ночи проводит у ее постели в больнице, но никаких улучшений не предвидится. Вскоре Марко знакомится в больнице с Бениньо, человеком, который уже не первый год ухаживает за своей возлюбленной Алисией, которая тоже лежит в коме. Объединенные общим горе мужчины сближаются, и однажды Бениньо дает страдающему Марко простой совет: «Поговори с ней». С тех пор Марко ведет с бесчувственной Лидией долгие разговоры, которые одни только и могут изменить ситуацию к лучшему и спасти влюбленных. Для того чтобы узнать, как дальше будут развиваться события, рекомендуем смотреть онлайн «Поговори с ней».                                                                                                                                                                                                                                                                                                                                                                                                               \n",
       "1  Уморительная современная комедия на популярную тему о том, как не надо отмечать мальчишник. Главный герой усвоил, что не надо звать на свадьбу своего друга Джейсона, из-за которого он вместо свадебного путешествия окажется в Мексике, среди бандитов, голый и измазанный в кокаине… Режиссером фильма стал Скот Армстронг - сценарист фильма «Старски и Хач» и продюсер нашумевшей комедии «Мальчишник 2: Из Вегаса в Бангкок». Главные роли исполнили ТиДжей Миллер («Монстро»), Томас Миддлдитч («Волк с Уолл-стрит») и Адам Палли («Железный человек 3»). Нардо собирается жениться на любимой девушке Трейси. Однако прямо во время церемонии к алтарю пробивается его друг Джейсон, который уверяет, что Нардо сам вчера говорил, будто Трейси ему не пара. Обиженная невеста отправляется в свадебное путешествие в Мексику одна, а Нардо следует за ней по пятам. Однако вскоре у него крадут деньги, документы и машину, так он оказывается голым посреди пустыни… Как герой выберется из этой переделки, вы узнаете, если решите смотреть онлайн «Голые перцы».                                                                                                                                                                                                                                                                                                                               \n",
       "2  Профессиональный рестлер Стив Остин («Все или ничего») и темнокожий мачо Майкл Джей Уайт («Темный рыцарь») в интригующем криминальном боевике. В центре сюжета – команда спецназовцев, которая оказалась между двумя воюющими бандитскими группировками…  Говорят, что в спецназе нет более жестокого учителя и более профессионального бойца, чем капитан Тейт. Он заставляет своих рекрутов пройти жесткую школу, но зато после него они становятся высококлассными бойцами, которым все по плечу. Команда капитана прибывает для учений в заброшенный самолетный амбар, находящийся недалеко от города и давно превращенный в место для штатных учений. Однако вскоре оказывается, что именно здесь устраивают кровавые разборки две враждующие бандитские группировки. Лишние свидетели им ни к чему, поэтому они решают объединить усилия, чтобы без шума разделаться с новоприбывшими спецназовцами. Теперь капитану Тейту и его ученикам придется применить свои навыки на практике. Удастся ли им это, вы узнаете, если решите смотреть онлайн «Тактическая сила».                                                                                                                                                                                                                                                                                                                                 \n",
       "3  Шарлотта Рэмплинг, Том Кортни, Джеральдин Джеймс и Долли Уэллс в драме Эндрю Хэйя.  Супруги Кейт и Джефф Мерсеры готовятся к важной дате – с того дня, как они поженились, прошло целых сорок пять лет. Желание устроить пышное празднество объясняется еще и тем, что пять лет назад супруги должны были отметить сорокалетний юбилей, но торжественный вечер пришлось отменить – Джеффу назначили операцию на сердце. Все вокруг дышит предпраздничной суетой, пока неожиданно не приходит известие: в Швейцарии нашли тело Кати – первой возлюбленной Джеффа, которая погибла в Альпах полвека назад. Для крепкого, выстроенного брака эта новость становится настоящим испытанием на прочность. Джефф предается воспоминаниям о своей юной любви и задается вопросом, как бы сложилась его жизнь, если бы Катя не погибла и все эти десятилетия провела с ним.  Для того чтобы узнать, выдержит ли полувековой союз супругов неожиданное испытание и к какому решению в итоге придут герои, рекомендуем смотреть онлайн «45 лет».                                                                                                                                                                                                                                                                                                                                                                      \n",
       "4  Расчетливая чаровница из советского кинохита «Мой ласковый и нежный зверь», актриса-дебютантка Галина Беляева снова становится неопытным и робким подростком в спортивном фильме  «Все решает мгновение». Круг ее наставников и самых верных болельщиков составили герои Александра Абдулова, Александра Демьяненко, Анатолия Папанова, Натальи Фатеевой. Историю взлетов и падений начинающей пловчихи обрамляет музыка Александра Журбина и стихи Роберта Рождественского. За свой вдохновляющий фильм о спорте мастер жанра Виктор Садовский взял призы на тематических фестивалях в Ереване, в Ашхабаде и Ленинграде.   Пятнадцатилетняя Надя – настоящий ребенок морей. Она всю жизнь провела на побережье и плавала вместе с дельфинами, пока не попала под крыло молодого тренера. Он выводит свою подопечную на новый уровень – районные соревнования по плаванию. Оттуда, не успевая опомниться, одаренная Надя попадает в Москву. Профессиональные спортсменки без радушия встречают «самородка» из провинции: Надя с легкостью бьет рекорды, которых они достигали самоотверженным трудом. Но одно дело побеждать среди своих, и совсем другое – показать себя на международных состязаниях, под объективами телекамер и взглядами миллионной публики.  Для того чтобы увидеть, как талант и призвание будут бороться со страхами, приглашаем посмотреть онлайн фильм «Все решает мгновение».   \n",
       "\n",
       "                                                                                                                                                                                                                                                                keywords  \n",
       "0  Поговори, ней, 2002, Испания, друзья, любовь, сильные, женщины, преодоление, трудностей, отношения, дружба, отношения, паре, отношения, мужчины, женщины, романтические, отношения, потеря, близких, флешбек, видения, несчастный, случай, разговоры, любовники, кома  \n",
       "1  Голые, перцы, 2014, США, друзья, свадьбы, преодоление, трудностей, расставания, отношения, дружба, риск, недоразумение, мужская, дружба, мальчишники, девичники                                                                                                        \n",
       "2  Тактическая, сила, 2011, Канада, бандиты, гангстеры, преступления, преодоление, трудностей, убийства, убийцы, настоящие, мужчины, риск, недоразумение, силы, правопорядка, борьба, за, выживание, спецназ, коллектив, команда, перестрелки, враги, или, вражда         \n",
       "3  45, лет, 2015, Великобритания, брак, жизнь, любовь, психология, семейные, проблемы, семья, отношения, конфликты, отношениях, отношения, паре, отношения, мужчины, женщины, семейный, конфликт, смерть                                                                  \n",
       "4  Все, решает, мгновение, 1978, СССР, сильные, женщины, спорт, преодоление, трудностей, мечта, соперничество, подростки, женщины, успех, коллектив, команда, фобии, спортсмены, отношения, между, тренером, подопечным                                                   "
      ]
     },
     "execution_count": 43,
     "metadata": {},
     "output_type": "execute_result"
    }
   ],
   "source": [
    "items.head()"
   ]
  },
  {
   "cell_type": "code",
   "execution_count": 44,
   "id": "834e232b",
   "metadata": {
    "ExecuteTime": {
     "end_time": "2023-11-21T16:31:58.773611Z",
     "start_time": "2023-11-21T16:31:32.161141Z"
    }
   },
   "outputs": [
    {
     "name": "stdout",
     "output_type": "stream",
     "text": [
      "Уникальных юзеров в interactions: 962_179\n",
      "Уникальных айтемов в interactions: 15_706\n"
     ]
    }
   ],
   "source": [
    "# предобработка данных\n",
    "interactions['last_watch_dt'] = pd.to_datetime(interactions['last_watch_dt']).map(lambda x: x.date())\n",
    "interactions['user_id'] = interactions['user_id'].astype(str)\n",
    "\n",
    "print(f\"Уникальных юзеров в interactions: {interactions['user_id'].nunique():_}\")\n",
    "print(f\"Уникальных айтемов в interactions: {interactions['item_id'].nunique():_}\")"
   ]
  },
  {
   "cell_type": "markdown",
   "id": "9863fa44",
   "metadata": {},
   "source": [
    " Оценим сколько у нас пользователей за 1 неделю"
   ]
  },
  {
   "cell_type": "code",
   "execution_count": 45,
   "id": "f3cd2059",
   "metadata": {
    "ExecuteTime": {
     "end_time": "2023-11-21T16:32:11.178266Z",
     "start_time": "2023-11-21T16:32:10.354311Z"
    }
   },
   "outputs": [
    {
     "name": "stdout",
     "output_type": "stream",
     "text": [
      "2021-03-13 2021-08-22\n"
     ]
    }
   ],
   "source": [
    "max_date = interactions['last_watch_dt'].max()\n",
    "min_date = interactions['last_watch_dt'].min()\n",
    "print(min_date, max_date)"
   ]
  },
  {
   "cell_type": "code",
   "execution_count": 46,
   "id": "b85c7214",
   "metadata": {
    "ExecuteTime": {
     "end_time": "2023-11-21T16:32:22.962469Z",
     "start_time": "2023-11-21T16:32:21.720354Z"
    }
   },
   "outputs": [
    {
     "data": {
      "text/plain": [
       "185907"
      ]
     },
     "execution_count": 46,
     "metadata": {},
     "output_type": "execute_result"
    }
   ],
   "source": [
    "interactions[interactions['last_watch_dt'] >= max_date - datetime.timedelta(days=7)]['user_id'].nunique()"
   ]
  },
  {
   "cell_type": "code",
   "execution_count": 47,
   "id": "e8aa387d",
   "metadata": {
    "ExecuteTime": {
     "end_time": "2023-11-21T16:32:43.167388Z",
     "start_time": "2023-11-21T16:32:42.227093Z"
    }
   },
   "outputs": [],
   "source": [
    "# выделим данные за одну (последнюю) неделю\n",
    "week1 = interactions[interactions['last_watch_dt'] >= max_date - datetime.timedelta(days=7)]\n",
    "week1 = week1.groupby('user_id', as_index=False).agg({'total_dur': sum})"
   ]
  },
  {
   "cell_type": "code",
   "execution_count": 85,
   "id": "1ca8a641",
   "metadata": {
    "ExecuteTime": {
     "end_time": "2023-11-21T17:17:43.481887Z",
     "start_time": "2023-11-21T17:17:43.464901Z"
    }
   },
   "outputs": [
    {
     "data": {
      "text/html": [
       "<div>\n",
       "<style scoped>\n",
       "    .dataframe tbody tr th:only-of-type {\n",
       "        vertical-align: middle;\n",
       "    }\n",
       "\n",
       "    .dataframe tbody tr th {\n",
       "        vertical-align: top;\n",
       "    }\n",
       "\n",
       "    .dataframe thead th {\n",
       "        text-align: right;\n",
       "    }\n",
       "</style>\n",
       "<table border=\"1\" class=\"dataframe\">\n",
       "  <thead>\n",
       "    <tr style=\"text-align: right;\">\n",
       "      <th></th>\n",
       "      <th>user_id</th>\n",
       "      <th>total_dur</th>\n",
       "      <th>hash</th>\n",
       "      <th>group</th>\n",
       "      <th>total_dur_ln</th>\n",
       "    </tr>\n",
       "  </thead>\n",
       "  <tbody>\n",
       "    <tr>\n",
       "      <th>0</th>\n",
       "      <td>1</td>\n",
       "      <td>1593</td>\n",
       "      <td>8dd6fdecc7e6411e5cb37428fa23b1a16b5e29170580c1a8d06193e000cfcb3e</td>\n",
       "      <td>A</td>\n",
       "      <td>10.637531</td>\n",
       "    </tr>\n",
       "    <tr>\n",
       "      <th>1</th>\n",
       "      <td>1000001</td>\n",
       "      <td>52</td>\n",
       "      <td>473fdb2883e1349c65888eeb87c11fd473f7092ab4ca55d9188d0a6e976fad48</td>\n",
       "      <td>A</td>\n",
       "      <td>5.700440</td>\n",
       "    </tr>\n",
       "    <tr>\n",
       "      <th>2</th>\n",
       "      <td>1000003</td>\n",
       "      <td>625</td>\n",
       "      <td>8da7c8a654419994f37a2e9044eae840c76b6383917591b6ab6fae0d0b5f12c1</td>\n",
       "      <td>B</td>\n",
       "      <td>9.287712</td>\n",
       "    </tr>\n",
       "    <tr>\n",
       "      <th>3</th>\n",
       "      <td>1000008</td>\n",
       "      <td>3691</td>\n",
       "      <td>9f34008bbe6e0aa8e67c067244f2fe22fe56306467b4baad89ce9737ba4c7f54</td>\n",
       "      <td>A</td>\n",
       "      <td>11.849796</td>\n",
       "    </tr>\n",
       "    <tr>\n",
       "      <th>4</th>\n",
       "      <td>1000009</td>\n",
       "      <td>2444</td>\n",
       "      <td>fb58024c29f2cbc8a383e31f9df9b5ee233e0cfc438a6db8d5540528b9cf1267</td>\n",
       "      <td>B</td>\n",
       "      <td>11.255029</td>\n",
       "    </tr>\n",
       "    <tr>\n",
       "      <th>...</th>\n",
       "      <td>...</td>\n",
       "      <td>...</td>\n",
       "      <td>...</td>\n",
       "      <td>...</td>\n",
       "      <td>...</td>\n",
       "    </tr>\n",
       "    <tr>\n",
       "      <th>185902</th>\n",
       "      <td>99997</td>\n",
       "      <td>30672</td>\n",
       "      <td>0f7610b6d74219e66fc311d511c1eca62335662698ca9771e50f6bdcf33e3588</td>\n",
       "      <td>A</td>\n",
       "      <td>14.904635</td>\n",
       "    </tr>\n",
       "    <tr>\n",
       "      <th>185903</th>\n",
       "      <td>999978</td>\n",
       "      <td>10723</td>\n",
       "      <td>1416af66624495526b89acff3e97451ccf9364215e12dd9c1929ebbfb8dd1099</td>\n",
       "      <td>B</td>\n",
       "      <td>13.388421</td>\n",
       "    </tr>\n",
       "    <tr>\n",
       "      <th>185904</th>\n",
       "      <td>999987</td>\n",
       "      <td>27888</td>\n",
       "      <td>01f16dd1367e8f10b9fd9c11bfdeea11ce4484805555187aed9f947c01fe4cf8</td>\n",
       "      <td>A</td>\n",
       "      <td>14.767357</td>\n",
       "    </tr>\n",
       "    <tr>\n",
       "      <th>185905</th>\n",
       "      <td>999990</td>\n",
       "      <td>997</td>\n",
       "      <td>798faca4e86b4311ee8912062521c9f8033bea17b781f2f12f7bc27f7c6744f4</td>\n",
       "      <td>A</td>\n",
       "      <td>9.961450</td>\n",
       "    </tr>\n",
       "    <tr>\n",
       "      <th>185906</th>\n",
       "      <td>999993</td>\n",
       "      <td>38</td>\n",
       "      <td>1b10972007ffff80db8ffd77f9b0489fc28270ee0e76762822714e6a2e458050</td>\n",
       "      <td>A</td>\n",
       "      <td>5.247928</td>\n",
       "    </tr>\n",
       "  </tbody>\n",
       "</table>\n",
       "<p>183790 rows × 5 columns</p>\n",
       "</div>"
      ],
      "text/plain": [
       "        user_id  total_dur  \\\n",
       "0       1        1593        \n",
       "1       1000001  52          \n",
       "2       1000003  625         \n",
       "3       1000008  3691        \n",
       "4       1000009  2444        \n",
       "...         ...   ...        \n",
       "185902  99997    30672       \n",
       "185903  999978   10723       \n",
       "185904  999987   27888       \n",
       "185905  999990   997         \n",
       "185906  999993   38          \n",
       "\n",
       "                                                                    hash  \\\n",
       "0       8dd6fdecc7e6411e5cb37428fa23b1a16b5e29170580c1a8d06193e000cfcb3e   \n",
       "1       473fdb2883e1349c65888eeb87c11fd473f7092ab4ca55d9188d0a6e976fad48   \n",
       "2       8da7c8a654419994f37a2e9044eae840c76b6383917591b6ab6fae0d0b5f12c1   \n",
       "3       9f34008bbe6e0aa8e67c067244f2fe22fe56306467b4baad89ce9737ba4c7f54   \n",
       "4       fb58024c29f2cbc8a383e31f9df9b5ee233e0cfc438a6db8d5540528b9cf1267   \n",
       "...                                                                  ...   \n",
       "185902  0f7610b6d74219e66fc311d511c1eca62335662698ca9771e50f6bdcf33e3588   \n",
       "185903  1416af66624495526b89acff3e97451ccf9364215e12dd9c1929ebbfb8dd1099   \n",
       "185904  01f16dd1367e8f10b9fd9c11bfdeea11ce4484805555187aed9f947c01fe4cf8   \n",
       "185905  798faca4e86b4311ee8912062521c9f8033bea17b781f2f12f7bc27f7c6744f4   \n",
       "185906  1b10972007ffff80db8ffd77f9b0489fc28270ee0e76762822714e6a2e458050   \n",
       "\n",
       "       group  total_dur_ln  \n",
       "0       A     10.637531     \n",
       "1       A     5.700440      \n",
       "2       B     9.287712      \n",
       "3       A     11.849796     \n",
       "4       B     11.255029     \n",
       "...    ..           ...     \n",
       "185902  A     14.904635     \n",
       "185903  B     13.388421     \n",
       "185904  A     14.767357     \n",
       "185905  A     9.961450      \n",
       "185906  A     5.247928      \n",
       "\n",
       "[183790 rows x 5 columns]"
      ]
     },
     "execution_count": 85,
     "metadata": {},
     "output_type": "execute_result"
    }
   ],
   "source": [
    "week1"
   ]
  },
  {
   "cell_type": "markdown",
   "id": "1710d228",
   "metadata": {
    "ExecuteTime": {
     "end_time": "2023-11-19T19:36:20.806884Z",
     "start_time": "2023-11-19T19:36:20.802895Z"
    }
   },
   "source": [
    "## Выбор метрики\n",
    "\n",
    "- хотим использовать метрику длину просмотра на пользователя (total_dur в датасете) - так как это основная метрика, на которую смотрит бизнес\n",
    "\n",
    "- То есть хотим, чтобы в тесте в группе B средняя длина просмотра на пользователя увеличилась\n",
    "\n",
    "# Выбор эффекта\n",
    "\n",
    "Пусть на первом этапе решили, что интересует эффект = 5% как разница между группами\n",
    "\n",
    "### Посмотрим на распределение метрики\n",
    "\n",
    "(помним: дисперсия должна быть невысокая)"
   ]
  },
  {
   "cell_type": "code",
   "execution_count": 49,
   "id": "4cbc7422",
   "metadata": {
    "ExecuteTime": {
     "end_time": "2023-11-21T16:33:53.833193Z",
     "start_time": "2023-11-21T16:33:53.687582Z"
    }
   },
   "outputs": [
    {
     "name": "stderr",
     "output_type": "stream",
     "text": [
      "C:\\Users\\79233\\anaconda3\\lib\\site-packages\\seaborn\\_decorators.py:36: FutureWarning: Pass the following variable as a keyword arg: x. From version 0.12, the only valid positional argument will be `data`, and passing other arguments without an explicit keyword will result in an error or misinterpretation.\n",
      "  warnings.warn(\n"
     ]
    },
    {
     "data": {
      "text/plain": [
       "<AxesSubplot:>"
      ]
     },
     "execution_count": 49,
     "metadata": {},
     "output_type": "execute_result"
    },
    {
     "data": {
      "image/png": "[encoded data removed]",
      "text/plain": [
       "<Figure size 432x288 with 1 Axes>"
      ]
     },
     "metadata": {
      "needs_background": "light"
     },
     "output_type": "display_data"
    }
   ],
   "source": [
    "sns.boxplot(week1['total_dur'].values, fliersize=3)"
   ]
  },
  {
   "cell_type": "code",
   "execution_count": 50,
   "id": "db3486a4",
   "metadata": {
    "ExecuteTime": {
     "end_time": "2023-11-21T16:35:13.782953Z",
     "start_time": "2023-11-21T16:35:13.764034Z"
    }
   },
   "outputs": [
    {
     "data": {
      "text/plain": [
       "9731801"
      ]
     },
     "execution_count": 50,
     "metadata": {},
     "output_type": "execute_result"
    }
   ],
   "source": [
    "# кажется у нас есть выброс - это плохо, удалим его\n",
    "week1['total_dur'].max()"
   ]
  },
  {
   "cell_type": "code",
   "execution_count": 51,
   "id": "57f3d770",
   "metadata": {
    "ExecuteTime": {
     "end_time": "2023-11-21T16:35:28.133623Z",
     "start_time": "2023-11-21T16:35:28.128636Z"
    }
   },
   "outputs": [
    {
     "data": {
      "text/plain": [
       "62639.86487742628"
      ]
     },
     "execution_count": 51,
     "metadata": {},
     "output_type": "execute_result"
    }
   ],
   "source": [
    "week1['total_dur'].std()"
   ]
  },
  {
   "cell_type": "code",
   "execution_count": 52,
   "id": "786a3880",
   "metadata": {
    "ExecuteTime": {
     "end_time": "2023-11-21T16:35:37.571537Z",
     "start_time": "2023-11-21T16:35:37.548598Z"
    }
   },
   "outputs": [
    {
     "data": {
      "text/html": [
       "<div>\n",
       "<style scoped>\n",
       "    .dataframe tbody tr th:only-of-type {\n",
       "        vertical-align: middle;\n",
       "    }\n",
       "\n",
       "    .dataframe tbody tr th {\n",
       "        vertical-align: top;\n",
       "    }\n",
       "\n",
       "    .dataframe thead th {\n",
       "        text-align: right;\n",
       "    }\n",
       "</style>\n",
       "<table border=\"1\" class=\"dataframe\">\n",
       "  <thead>\n",
       "    <tr style=\"text-align: right;\">\n",
       "      <th></th>\n",
       "      <th>user_id</th>\n",
       "      <th>total_dur</th>\n",
       "    </tr>\n",
       "  </thead>\n",
       "  <tbody>\n",
       "    <tr>\n",
       "      <th>128751</th>\n",
       "      <td>696597</td>\n",
       "      <td>9731801</td>\n",
       "    </tr>\n",
       "  </tbody>\n",
       "</table>\n",
       "</div>"
      ],
      "text/plain": [
       "       user_id  total_dur\n",
       "128751  696597  9731801  "
      ]
     },
     "execution_count": 52,
     "metadata": {},
     "output_type": "execute_result"
    }
   ],
   "source": [
    "week1[week1['total_dur'] == week1['total_dur'].max()]"
   ]
  },
  {
   "cell_type": "code",
   "execution_count": 53,
   "id": "fd0efb50",
   "metadata": {
    "ExecuteTime": {
     "end_time": "2023-11-21T16:36:05.791382Z",
     "start_time": "2023-11-21T16:36:05.745482Z"
    }
   },
   "outputs": [
    {
     "name": "stdout",
     "output_type": "stream",
     "text": [
      "(185907, 2)\n",
      "(183790, 2)\n"
     ]
    }
   ],
   "source": [
    "print(week1.shape)\n",
    "week1 = week1[(week1['total_dur'] < week1['total_dur'].std() * 3)]\n",
    "print(week1.shape)"
   ]
  },
  {
   "cell_type": "code",
   "execution_count": 54,
   "id": "ffdbe87f",
   "metadata": {
    "ExecuteTime": {
     "end_time": "2023-11-21T16:36:30.527411Z",
     "start_time": "2023-11-21T16:36:30.234196Z"
    }
   },
   "outputs": [
    {
     "data": {
      "image/png": "[encoded data removed]",
      "text/plain": [
       "<Figure size 504x504 with 1 Axes>"
      ]
     },
     "metadata": {
      "needs_background": "light"
     },
     "output_type": "display_data"
    }
   ],
   "source": [
    "week1['total_dur'].hist(bins=100, figsize=(7,7))\n",
    "plt.ylim([0, 10000])\n",
    "plt.grid(False)"
   ]
  },
  {
   "cell_type": "markdown",
   "id": "dffddbfc",
   "metadata": {},
   "source": [
    "<details>\n",
    "  <summary>📝 Подсказка </summary>\n",
    "    \n",
    "Данные не похожи на нормальное распределение: большинство людей смотрят понемногу, распределение не симметричное.\n",
    "\n",
    "Что это значит? Что самые популярные критерии (t-test, z-test) для нашей метрики \"длина просмотра\" не подойдут, так как они требуют условия на нормальность распределения\n",
    "    \n",
    "</details>\n",
    "\n"
   ]
  },
  {
   "cell_type": "markdown",
   "id": "b961df85",
   "metadata": {
    "ExecuteTime": {
     "end_time": "2023-11-19T19:52:49.916224Z",
     "start_time": "2023-11-19T19:52:49.898247Z"
    }
   },
   "source": [
    "## Выбор критерия\n",
    "<details>\n",
    "  <summary>📝 Подсказка </summary>\n",
    "А что если использовать критерий Манна-Уитни?\n",
    "\n",
    "- Нормальность данных не требуется\n",
    "- Для него нужен ряд неповторяющихся уникальных значений\n",
    "    \n",
    "</details>"
   ]
  },
  {
   "cell_type": "markdown",
   "id": "62fbe7b1",
   "metadata": {
    "ExecuteTime": {
     "end_time": "2023-11-19T19:56:19.794624Z",
     "start_time": "2023-11-19T19:56:19.785623Z"
    }
   },
   "source": [
    "## Алгоритм подбора похожих групп\n",
    "\n",
    "- Используем хэш функцию для этого. Посчитаем хэш от айди, найдем остаток от деления на 2 (так как 2 группы) и по остатку определим к какой группе относится пользователь. То есть по айди пользователя она разобьет всех пользователей на 2 группы."
   ]
  },
  {
   "cell_type": "markdown",
   "id": "72d5956f",
   "metadata": {
    "ExecuteTime": {
     "end_time": "2023-11-19T19:57:10.005582Z",
     "start_time": "2023-11-19T19:57:09.985610Z"
    }
   },
   "source": [
    "\n",
    "## Переходим к валидации критерия\n",
    "- оценка распределения p_value\n",
    "- оценка мощности\n",
    "- корректности\n",
    "\n",
    "**Распределения p_value** при корректном подборе пары метрика + критерий -  равномерное распределение\n",
    "\n",
    "**Достоверность (Корректность)** - вероятность того, что найдет различие, когда его нет\n",
    "\n",
    "$$significance = Pr(\\text{reject }H_0 | H_0 \\text{ is true})$$\n",
    "\n",
    "**Мощность** - вероятность того, что критерий найдет различие в случае, когда оно есть\n",
    "\n",
    "$$power = Pr(\\text{reject }H_0 | H_1 \\text{ is true})$$\n"
   ]
  },
  {
   "cell_type": "code",
   "execution_count": 55,
   "id": "967845ba",
   "metadata": {
    "ExecuteTime": {
     "end_time": "2023-11-21T16:42:43.821393Z",
     "start_time": "2023-11-21T16:42:42.976852Z"
    }
   },
   "outputs": [
    {
     "data": {
      "text/html": [
       "<div>\n",
       "<style scoped>\n",
       "    .dataframe tbody tr th:only-of-type {\n",
       "        vertical-align: middle;\n",
       "    }\n",
       "\n",
       "    .dataframe tbody tr th {\n",
       "        vertical-align: top;\n",
       "    }\n",
       "\n",
       "    .dataframe thead th {\n",
       "        text-align: right;\n",
       "    }\n",
       "</style>\n",
       "<table border=\"1\" class=\"dataframe\">\n",
       "  <thead>\n",
       "    <tr style=\"text-align: right;\">\n",
       "      <th></th>\n",
       "      <th>user_id</th>\n",
       "      <th>total_dur</th>\n",
       "      <th>group</th>\n",
       "    </tr>\n",
       "  </thead>\n",
       "  <tbody>\n",
       "    <tr>\n",
       "      <th>0</th>\n",
       "      <td>1</td>\n",
       "      <td>1593</td>\n",
       "      <td>B</td>\n",
       "    </tr>\n",
       "    <tr>\n",
       "      <th>1</th>\n",
       "      <td>1000001</td>\n",
       "      <td>52</td>\n",
       "      <td>A</td>\n",
       "    </tr>\n",
       "    <tr>\n",
       "      <th>2</th>\n",
       "      <td>1000003</td>\n",
       "      <td>625</td>\n",
       "      <td>A</td>\n",
       "    </tr>\n",
       "    <tr>\n",
       "      <th>3</th>\n",
       "      <td>1000008</td>\n",
       "      <td>3691</td>\n",
       "      <td>B</td>\n",
       "    </tr>\n",
       "    <tr>\n",
       "      <th>4</th>\n",
       "      <td>1000009</td>\n",
       "      <td>2444</td>\n",
       "      <td>A</td>\n",
       "    </tr>\n",
       "  </tbody>\n",
       "</table>\n",
       "</div>"
      ],
      "text/plain": [
       "   user_id  total_dur group\n",
       "0  1        1593       B   \n",
       "1  1000001  52         A   \n",
       "2  1000003  625        A   \n",
       "3  1000008  3691       B   \n",
       "4  1000009  2444       A   "
      ]
     },
     "execution_count": 55,
     "metadata": {},
     "output_type": "execute_result"
    }
   ],
   "source": [
    "week1_group = groups_splitter(week1, columns=['user_id', 'total_dur', 'group'], user_salt='20231121')\n",
    "week1_group.head()"
   ]
  },
  {
   "cell_type": "code",
   "execution_count": 56,
   "id": "11ea39d9",
   "metadata": {
    "ExecuteTime": {
     "end_time": "2023-11-21T16:42:49.429771Z",
     "start_time": "2023-11-21T16:42:49.330066Z"
    }
   },
   "outputs": [
    {
     "data": {
      "text/html": [
       "<div>\n",
       "<style scoped>\n",
       "    .dataframe tbody tr th:only-of-type {\n",
       "        vertical-align: middle;\n",
       "    }\n",
       "\n",
       "    .dataframe tbody tr th {\n",
       "        vertical-align: top;\n",
       "    }\n",
       "\n",
       "    .dataframe thead th {\n",
       "        text-align: right;\n",
       "    }\n",
       "</style>\n",
       "<table border=\"1\" class=\"dataframe\">\n",
       "  <thead>\n",
       "    <tr style=\"text-align: right;\">\n",
       "      <th></th>\n",
       "      <th>group</th>\n",
       "      <th>user_id</th>\n",
       "      <th>total_dur</th>\n",
       "      <th>hash</th>\n",
       "    </tr>\n",
       "  </thead>\n",
       "  <tbody>\n",
       "    <tr>\n",
       "      <th>0</th>\n",
       "      <td>A</td>\n",
       "      <td>92089</td>\n",
       "      <td>92089</td>\n",
       "      <td>92089</td>\n",
       "    </tr>\n",
       "    <tr>\n",
       "      <th>1</th>\n",
       "      <td>B</td>\n",
       "      <td>91701</td>\n",
       "      <td>91701</td>\n",
       "      <td>91701</td>\n",
       "    </tr>\n",
       "  </tbody>\n",
       "</table>\n",
       "</div>"
      ],
      "text/plain": [
       "  group  user_id  total_dur   hash\n",
       "0  A     92089    92089      92089\n",
       "1  B     91701    91701      91701"
      ]
     },
     "execution_count": 56,
     "metadata": {},
     "output_type": "execute_result"
    }
   ],
   "source": [
    "week1.groupby(by='group', as_index=False).count()"
   ]
  },
  {
   "cell_type": "code",
   "execution_count": 57,
   "id": "4d588d7f",
   "metadata": {
    "ExecuteTime": {
     "end_time": "2023-11-21T16:43:25.148723Z",
     "start_time": "2023-11-21T16:43:25.040012Z"
    }
   },
   "outputs": [
    {
     "name": "stdout",
     "output_type": "stream",
     "text": [
      "p_value = 0.19952649415557755\n"
     ]
    }
   ],
   "source": [
    "from scipy.stats import mannwhitneyu\n",
    "\n",
    "# проверим, как работает код критерия\n",
    "u, p = mannwhitneyu(week1[week1['group'] == 'A']['total_dur'].values,\n",
    "                    week1[week1['group'] == 'B']['total_dur'].values)\n",
    "\n",
    "print(f\"p_value = {p}\")"
   ]
  },
  {
   "cell_type": "markdown",
   "id": "ffac5cde",
   "metadata": {},
   "source": [
    "Проверка распределения p_value - должно быть равномерное"
   ]
  },
  {
   "cell_type": "code",
   "execution_count": 58,
   "id": "3547add7",
   "metadata": {
    "ExecuteTime": {
     "end_time": "2023-11-21T16:45:26.706015Z",
     "start_time": "2023-11-21T16:44:00.661476Z"
    }
   },
   "outputs": [
    {
     "name": "stderr",
     "output_type": "stream",
     "text": [
      "100%|██████████| 100/100 [01:26<00:00,  1.16it/s]\n"
     ]
    }
   ],
   "source": [
    "pvalues = []\n",
    "\n",
    "for i in tqdm(range(100)):  # 1000\n",
    "\n",
    "  week1_hash = groups_splitter(week1, columns=['user_id', 'total_dur', 'group'])\n",
    "\n",
    "  u, p = mannwhitneyu(\n",
    "        week1_hash[week1_hash['group'] == 'A']['total_dur'].values,\n",
    "        week1_hash[week1_hash['group'] == 'B']['total_dur'].values\n",
    "    )\n",
    "  pvalues.append(p)"
   ]
  },
  {
   "cell_type": "code",
   "execution_count": 61,
   "id": "8a965992",
   "metadata": {
    "ExecuteTime": {
     "end_time": "2023-11-21T16:45:51.775235Z",
     "start_time": "2023-11-21T16:45:51.626633Z"
    },
    "scrolled": true
   },
   "outputs": [
    {
     "data": {
      "image/png": "[encoded data removed]",
      "text/plain": [
       "<Figure size 432x288 with 1 Axes>"
      ]
     },
     "metadata": {
      "needs_background": "light"
     },
     "output_type": "display_data"
    }
   ],
   "source": [
    "plt.hist(pvalues, bins=10, color='purple');"
   ]
  },
  {
   "cell_type": "markdown",
   "id": "57881d4a",
   "metadata": {},
   "source": [
    "<details>\n",
    "  <summary>📝 Подсказка </summary>\n",
    "Ой. Кажется критерий Манна-Уитни не подходит. А почему так произошло?\n",
    "    </details>"
   ]
  },
  {
   "cell_type": "markdown",
   "id": "13147dfe",
   "metadata": {},
   "source": [
    "Давайте еще проверим критерием Колмогорова-Смирнова (о том, что получившееся распределение pvalues есть равномерное распределение). Здесь нужно держать в уме, что критерий не очень мощный (помним, что мощный от 80% случаев найденных различий)"
   ]
  },
  {
   "cell_type": "code",
   "execution_count": 62,
   "id": "18bd1021",
   "metadata": {
    "ExecuteTime": {
     "end_time": "2023-11-21T16:46:48.527552Z",
     "start_time": "2023-11-21T16:46:48.519574Z"
    }
   },
   "outputs": [
    {
     "name": "stdout",
     "output_type": "stream",
     "text": [
      "p_value = 7.011900060021256e-24 - p_values неравномерное распределение\n"
     ]
    }
   ],
   "source": [
    "import scipy.stats\n",
    "\n",
    "stat, p_value = scipy.stats.kstest(pvalues, scipy.stats.uniform(loc=0.0, scale=1.0).cdf)\n",
    "\n",
    "if p_value < 0.05:\n",
    "    print(f'p_value = {p_value} - p_values неравномерное распределение')\n",
    "else:\n",
    "    print(f'p_value = {p_value} - p_values равномерное распределение')"
   ]
  },
  {
   "cell_type": "markdown",
   "id": "baffcd1e",
   "metadata": {
    "ExecuteTime": {
     "end_time": "2023-11-20T15:09:55.202516Z",
     "start_time": "2023-11-20T15:09:55.188528Z"
    }
   },
   "source": [
    "<details>\n",
    "  <summary>📝 Подсказка </summary>\n",
    "Посмотрим количество уникальных значений в выборке\n",
    "</details>"
   ]
  },
  {
   "cell_type": "code",
   "execution_count": 63,
   "id": "07fb1bb9",
   "metadata": {
    "ExecuteTime": {
     "end_time": "2023-11-21T16:49:05.251816Z",
     "start_time": "2023-11-21T16:49:05.147090Z"
    }
   },
   "outputs": [
    {
     "name": "stdout",
     "output_type": "stream",
     "text": [
      "% уник. значений группы А = 34.53\n",
      "% уник. значений группы B = 34.34\n"
     ]
    }
   ],
   "source": [
    "print(f\"% уник. значений группы А = {round(week1_hash[week1_hash['group'] == 'A']['total_dur'].nunique() / week1_hash[week1_hash['group'] == 'A'].shape[0] * 100, 2)}\")\n",
    "print(f\"% уник. значений группы B = {round(week1_hash[week1_hash['group'] == 'B']['total_dur'].nunique() / week1_hash[week1_hash['group'] == 'B'].shape[0] * 100, 2)}\")"
   ]
  },
  {
   "cell_type": "code",
   "execution_count": 64,
   "id": "a4c86eae",
   "metadata": {
    "ExecuteTime": {
     "end_time": "2023-11-21T16:49:28.593552Z",
     "start_time": "2023-11-21T16:49:28.561660Z"
    }
   },
   "outputs": [
    {
     "data": {
      "text/plain": [
       "91669"
      ]
     },
     "execution_count": 64,
     "metadata": {},
     "output_type": "execute_result"
    }
   ],
   "source": [
    "week1_hash[week1_hash['group'] == 'A'].shape[0]"
   ]
  },
  {
   "cell_type": "code",
   "execution_count": 65,
   "id": "6be35ffe",
   "metadata": {
    "ExecuteTime": {
     "end_time": "2023-11-21T16:49:37.009005Z",
     "start_time": "2023-11-21T16:49:36.896333Z"
    }
   },
   "outputs": [
    {
     "data": {
      "text/html": [
       "<div>\n",
       "<style scoped>\n",
       "    .dataframe tbody tr th:only-of-type {\n",
       "        vertical-align: middle;\n",
       "    }\n",
       "\n",
       "    .dataframe tbody tr th {\n",
       "        vertical-align: top;\n",
       "    }\n",
       "\n",
       "    .dataframe thead th {\n",
       "        text-align: right;\n",
       "    }\n",
       "</style>\n",
       "<table border=\"1\" class=\"dataframe\">\n",
       "  <thead>\n",
       "    <tr style=\"text-align: right;\">\n",
       "      <th></th>\n",
       "      <th>total_dur</th>\n",
       "      <th>user_id</th>\n",
       "    </tr>\n",
       "  </thead>\n",
       "  <tbody>\n",
       "    <tr>\n",
       "      <th>7</th>\n",
       "      <td>8</td>\n",
       "      <td>592</td>\n",
       "    </tr>\n",
       "    <tr>\n",
       "      <th>5</th>\n",
       "      <td>6</td>\n",
       "      <td>590</td>\n",
       "    </tr>\n",
       "    <tr>\n",
       "      <th>6</th>\n",
       "      <td>7</td>\n",
       "      <td>568</td>\n",
       "    </tr>\n",
       "    <tr>\n",
       "      <th>8</th>\n",
       "      <td>9</td>\n",
       "      <td>565</td>\n",
       "    </tr>\n",
       "    <tr>\n",
       "      <th>4</th>\n",
       "      <td>5</td>\n",
       "      <td>559</td>\n",
       "    </tr>\n",
       "    <tr>\n",
       "      <th>3</th>\n",
       "      <td>4</td>\n",
       "      <td>534</td>\n",
       "    </tr>\n",
       "    <tr>\n",
       "      <th>2</th>\n",
       "      <td>3</td>\n",
       "      <td>526</td>\n",
       "    </tr>\n",
       "    <tr>\n",
       "      <th>9</th>\n",
       "      <td>10</td>\n",
       "      <td>510</td>\n",
       "    </tr>\n",
       "    <tr>\n",
       "      <th>11</th>\n",
       "      <td>12</td>\n",
       "      <td>463</td>\n",
       "    </tr>\n",
       "    <tr>\n",
       "      <th>10</th>\n",
       "      <td>11</td>\n",
       "      <td>452</td>\n",
       "    </tr>\n",
       "    <tr>\n",
       "      <th>1</th>\n",
       "      <td>2</td>\n",
       "      <td>435</td>\n",
       "    </tr>\n",
       "    <tr>\n",
       "      <th>12</th>\n",
       "      <td>13</td>\n",
       "      <td>432</td>\n",
       "    </tr>\n",
       "    <tr>\n",
       "      <th>14</th>\n",
       "      <td>15</td>\n",
       "      <td>404</td>\n",
       "    </tr>\n",
       "    <tr>\n",
       "      <th>0</th>\n",
       "      <td>1</td>\n",
       "      <td>393</td>\n",
       "    </tr>\n",
       "    <tr>\n",
       "      <th>15</th>\n",
       "      <td>16</td>\n",
       "      <td>386</td>\n",
       "    </tr>\n",
       "    <tr>\n",
       "      <th>13</th>\n",
       "      <td>14</td>\n",
       "      <td>378</td>\n",
       "    </tr>\n",
       "    <tr>\n",
       "      <th>16</th>\n",
       "      <td>17</td>\n",
       "      <td>365</td>\n",
       "    </tr>\n",
       "    <tr>\n",
       "      <th>17</th>\n",
       "      <td>18</td>\n",
       "      <td>349</td>\n",
       "    </tr>\n",
       "    <tr>\n",
       "      <th>18</th>\n",
       "      <td>19</td>\n",
       "      <td>321</td>\n",
       "    </tr>\n",
       "    <tr>\n",
       "      <th>21</th>\n",
       "      <td>22</td>\n",
       "      <td>306</td>\n",
       "    </tr>\n",
       "  </tbody>\n",
       "</table>\n",
       "</div>"
      ],
      "text/plain": [
       "    total_dur  user_id\n",
       "7   8          592    \n",
       "5   6          590    \n",
       "6   7          568    \n",
       "8   9          565    \n",
       "4   5          559    \n",
       "3   4          534    \n",
       "2   3          526    \n",
       "9   10         510    \n",
       "11  12         463    \n",
       "10  11         452    \n",
       "1   2          435    \n",
       "12  13         432    \n",
       "14  15         404    \n",
       "0   1          393    \n",
       "15  16         386    \n",
       "13  14         378    \n",
       "16  17         365    \n",
       "17  18         349    \n",
       "18  19         321    \n",
       "21  22         306    "
      ]
     },
     "execution_count": 65,
     "metadata": {},
     "output_type": "execute_result"
    }
   ],
   "source": [
    "week1_hash.groupby(by='total_dur', as_index=False).count()[['total_dur', 'user_id']].sort_values('user_id', ascending=False).head(20)"
   ]
  },
  {
   "cell_type": "code",
   "execution_count": 66,
   "id": "1f407542",
   "metadata": {
    "ExecuteTime": {
     "end_time": "2023-11-21T16:49:50.665521Z",
     "start_time": "2023-11-21T16:49:50.577978Z"
    }
   },
   "outputs": [
    {
     "data": {
      "text/html": [
       "<div>\n",
       "<style scoped>\n",
       "    .dataframe tbody tr th:only-of-type {\n",
       "        vertical-align: middle;\n",
       "    }\n",
       "\n",
       "    .dataframe tbody tr th {\n",
       "        vertical-align: top;\n",
       "    }\n",
       "\n",
       "    .dataframe thead th {\n",
       "        text-align: right;\n",
       "    }\n",
       "</style>\n",
       "<table border=\"1\" class=\"dataframe\">\n",
       "  <thead>\n",
       "    <tr style=\"text-align: right;\">\n",
       "      <th></th>\n",
       "      <th>total_dur</th>\n",
       "      <th>user_id</th>\n",
       "    </tr>\n",
       "  </thead>\n",
       "  <tbody>\n",
       "    <tr>\n",
       "      <th>29559</th>\n",
       "      <td>36967</td>\n",
       "      <td>1</td>\n",
       "    </tr>\n",
       "    <tr>\n",
       "      <th>29560</th>\n",
       "      <td>36968</td>\n",
       "      <td>1</td>\n",
       "    </tr>\n",
       "    <tr>\n",
       "      <th>29581</th>\n",
       "      <td>37007</td>\n",
       "      <td>1</td>\n",
       "    </tr>\n",
       "    <tr>\n",
       "      <th>29580</th>\n",
       "      <td>37006</td>\n",
       "      <td>1</td>\n",
       "    </tr>\n",
       "    <tr>\n",
       "      <th>29579</th>\n",
       "      <td>37005</td>\n",
       "      <td>1</td>\n",
       "    </tr>\n",
       "    <tr>\n",
       "      <th>29578</th>\n",
       "      <td>37003</td>\n",
       "      <td>1</td>\n",
       "    </tr>\n",
       "    <tr>\n",
       "      <th>29577</th>\n",
       "      <td>37002</td>\n",
       "      <td>1</td>\n",
       "    </tr>\n",
       "    <tr>\n",
       "      <th>29574</th>\n",
       "      <td>36991</td>\n",
       "      <td>1</td>\n",
       "    </tr>\n",
       "    <tr>\n",
       "      <th>29573</th>\n",
       "      <td>36990</td>\n",
       "      <td>1</td>\n",
       "    </tr>\n",
       "    <tr>\n",
       "      <th>29571</th>\n",
       "      <td>36988</td>\n",
       "      <td>1</td>\n",
       "    </tr>\n",
       "    <tr>\n",
       "      <th>29570</th>\n",
       "      <td>36987</td>\n",
       "      <td>1</td>\n",
       "    </tr>\n",
       "    <tr>\n",
       "      <th>14114</th>\n",
       "      <td>14359</td>\n",
       "      <td>1</td>\n",
       "    </tr>\n",
       "    <tr>\n",
       "      <th>29567</th>\n",
       "      <td>36979</td>\n",
       "      <td>1</td>\n",
       "    </tr>\n",
       "    <tr>\n",
       "      <th>29566</th>\n",
       "      <td>36977</td>\n",
       "      <td>1</td>\n",
       "    </tr>\n",
       "    <tr>\n",
       "      <th>14117</th>\n",
       "      <td>14362</td>\n",
       "      <td>1</td>\n",
       "    </tr>\n",
       "    <tr>\n",
       "      <th>29564</th>\n",
       "      <td>36975</td>\n",
       "      <td>1</td>\n",
       "    </tr>\n",
       "    <tr>\n",
       "      <th>29563</th>\n",
       "      <td>36973</td>\n",
       "      <td>1</td>\n",
       "    </tr>\n",
       "    <tr>\n",
       "      <th>14118</th>\n",
       "      <td>14363</td>\n",
       "      <td>1</td>\n",
       "    </tr>\n",
       "    <tr>\n",
       "      <th>29561</th>\n",
       "      <td>36970</td>\n",
       "      <td>1</td>\n",
       "    </tr>\n",
       "    <tr>\n",
       "      <th>45158</th>\n",
       "      <td>187905</td>\n",
       "      <td>1</td>\n",
       "    </tr>\n",
       "  </tbody>\n",
       "</table>\n",
       "</div>"
      ],
      "text/plain": [
       "       total_dur  user_id\n",
       "29559  36967      1      \n",
       "29560  36968      1      \n",
       "29581  37007      1      \n",
       "29580  37006      1      \n",
       "29579  37005      1      \n",
       "29578  37003      1      \n",
       "29577  37002      1      \n",
       "29574  36991      1      \n",
       "29573  36990      1      \n",
       "29571  36988      1      \n",
       "29570  36987      1      \n",
       "14114  14359      1      \n",
       "29567  36979      1      \n",
       "29566  36977      1      \n",
       "14117  14362      1      \n",
       "29564  36975      1      \n",
       "29563  36973      1      \n",
       "14118  14363      1      \n",
       "29561  36970      1      \n",
       "45158  187905     1      "
      ]
     },
     "execution_count": 66,
     "metadata": {},
     "output_type": "execute_result"
    }
   ],
   "source": [
    "week1_hash.groupby(by='total_dur', as_index=False).count()[['total_dur', 'user_id']].sort_values('user_id', ascending=False).tail(20)"
   ]
  },
  {
   "cell_type": "markdown",
   "id": "b5f1d5f9",
   "metadata": {},
   "source": [
    "Попробуем что то сделать с этой метрикой\n",
    "\n",
    "Один из вариантов - логарифмирование метрики, способ снизить дисперсию "
   ]
  },
  {
   "cell_type": "code",
   "execution_count": 67,
   "id": "0196d95a",
   "metadata": {
    "ExecuteTime": {
     "end_time": "2023-11-21T16:51:15.793973Z",
     "start_time": "2023-11-21T16:51:15.776021Z"
    }
   },
   "outputs": [],
   "source": [
    "week1['total_dur_ln'] = np.log2(week1['total_dur'])"
   ]
  },
  {
   "cell_type": "code",
   "execution_count": 68,
   "id": "93cafe61",
   "metadata": {
    "ExecuteTime": {
     "end_time": "2023-11-21T16:51:19.821398Z",
     "start_time": "2023-11-21T16:51:19.571104Z"
    }
   },
   "outputs": [
    {
     "data": {
      "image/png": "[encoded data removed]",
      "text/plain": [
       "<Figure size 504x504 with 1 Axes>"
      ]
     },
     "metadata": {
      "needs_background": "light"
     },
     "output_type": "display_data"
    }
   ],
   "source": [
    "week1['total_dur_ln'].hist(bins=50, figsize=(7,7))\n",
    "plt.grid(False)"
   ]
  },
  {
   "cell_type": "code",
   "execution_count": 69,
   "id": "6ffc1957",
   "metadata": {
    "ExecuteTime": {
     "end_time": "2023-11-21T16:52:57.854417Z",
     "start_time": "2023-11-21T16:52:57.810535Z"
    }
   },
   "outputs": [
    {
     "name": "stdout",
     "output_type": "stream",
     "text": [
      "p_value = 0.0 - p_values неравномерное распределение\n"
     ]
    }
   ],
   "source": [
    "stat, p_value = scipy.stats.kstest(week1['total_dur_ln'], scipy.stats.uniform(loc=0.0, scale=1.0).cdf)\n",
    "\n",
    "if p_value < 0.05:\n",
    "    print(f'p_value = {p_value} - p_values неравномерное распределение')\n",
    "else:\n",
    "    print(f'p_value = {p_value} - p_values равномерное распределение')"
   ]
  },
  {
   "cell_type": "code",
   "execution_count": 70,
   "id": "309bea4f",
   "metadata": {
    "ExecuteTime": {
     "end_time": "2023-11-21T16:54:43.195737Z",
     "start_time": "2023-11-21T16:53:16.674384Z"
    }
   },
   "outputs": [
    {
     "name": "stderr",
     "output_type": "stream",
     "text": [
      "100%|██████████| 100/100 [01:26<00:00,  1.16it/s]\n"
     ]
    }
   ],
   "source": [
    "pvalues = []\n",
    "\n",
    "for i in tqdm(range(100)):  # 1000\n",
    "\n",
    "  week1_hash = groups_splitter(week1, columns=['user_id', 'total_dur_ln', 'group'])\n",
    "\n",
    "  u, p = mannwhitneyu(\n",
    "        week1_hash[week1_hash['group'] == 'A']['total_dur_ln'].values,\n",
    "        week1_hash[week1_hash['group'] == 'B']['total_dur_ln'].values\n",
    "    )\n",
    "  pvalues.append(p)"
   ]
  },
  {
   "cell_type": "code",
   "execution_count": 71,
   "id": "bcae899c",
   "metadata": {
    "ExecuteTime": {
     "end_time": "2023-11-21T16:55:39.337397Z",
     "start_time": "2023-11-21T16:55:39.129952Z"
    }
   },
   "outputs": [
    {
     "data": {
      "image/png": "[encoded data removed]",
      "text/plain": [
       "<Figure size 432x288 with 1 Axes>"
      ]
     },
     "metadata": {
      "needs_background": "light"
     },
     "output_type": "display_data"
    }
   ],
   "source": [
    "plt.hist(pvalues, bins=10, color='purple');"
   ]
  },
  {
   "cell_type": "markdown",
   "id": "e0b1e683",
   "metadata": {},
   "source": [
    "<details>\n",
    "  <summary>📝 Подсказка </summary>\n",
    "Не помогло, кажется надо пробовать совсем другой подход, какие есть идеи?\n",
    "\n",
    "</details>"
   ]
  },
  {
   "cell_type": "code",
   "execution_count": 72,
   "id": "5d4365dd",
   "metadata": {
    "ExecuteTime": {
     "end_time": "2023-11-21T16:55:47.368781Z",
     "start_time": "2023-11-21T16:55:47.359805Z"
    }
   },
   "outputs": [
    {
     "name": "stdout",
     "output_type": "stream",
     "text": [
      "p_value = 7.963525794764827e-24 - p_values неравномерное распределение\n"
     ]
    }
   ],
   "source": [
    "stat, p_value = scipy.stats.kstest(pvalues, scipy.stats.uniform(loc=0.0, scale=1.0).cdf)\n",
    "\n",
    "if p_value < 0.05:\n",
    "    print(f'p_value = {p_value} - p_values неравномерное распределение')\n",
    "else:\n",
    "    print(f'p_value = {p_value} - p_values равномерное распределение')"
   ]
  },
  {
   "cell_type": "code",
   "execution_count": null,
   "id": "f020a406",
   "metadata": {},
   "outputs": [],
   "source": []
  },
  {
   "cell_type": "code",
   "execution_count": null,
   "id": "b6807521",
   "metadata": {},
   "outputs": [],
   "source": []
  },
  {
   "cell_type": "code",
   "execution_count": null,
   "id": "d14a46e0",
   "metadata": {},
   "outputs": [],
   "source": []
  },
  {
   "cell_type": "code",
   "execution_count": null,
   "id": "c45abc84",
   "metadata": {},
   "outputs": [],
   "source": []
  },
  {
   "cell_type": "code",
   "execution_count": null,
   "id": "6eadddd6",
   "metadata": {
    "ExecuteTime": {
     "end_time": "2023-11-21T15:02:44.469486Z",
     "start_time": "2023-11-21T15:02:44.465497Z"
    }
   },
   "outputs": [],
   "source": [
    "from IPython.display import clear_output"
   ]
  },
  {
   "cell_type": "code",
   "execution_count": null,
   "id": "672c7a29",
   "metadata": {
    "ExecuteTime": {
     "end_time": "2023-11-21T15:03:17.109804Z",
     "start_time": "2023-11-21T15:03:17.090855Z"
    }
   },
   "outputs": [],
   "source": [
    "clear_output()"
   ]
  },
  {
   "cell_type": "code",
   "execution_count": null,
   "id": "fa18c309",
   "metadata": {},
   "outputs": [],
   "source": []
  },
  {
   "cell_type": "code",
   "execution_count": null,
   "id": "cfd90107",
   "metadata": {},
   "outputs": [],
   "source": []
  },
  {
   "cell_type": "code",
   "execution_count": null,
   "id": "25833e27",
   "metadata": {},
   "outputs": [],
   "source": []
  },
  {
   "cell_type": "markdown",
   "id": "6123312b",
   "metadata": {},
   "source": [
    "# Другой подход к дизайну - бутстрап"
   ]
  },
  {
   "cell_type": "markdown",
   "id": "3ea2e41f",
   "metadata": {},
   "source": [
    "Критерий - бутстрап (bootstrap)\n",
    "\n",
    "Как работает (теория)\n",
    "- Для каждой группы A и B m раз генерируются псевдовыборки из исходной выборки как выборки с возвращением\n",
    "\n",
    "- На каждой паре псевдовыборок считается некоторая статистика, которую мы оцениваем\n",
    "\n",
    "- Дальше строим доверительный интервал для накопленных статистик между псевдовыборками [2.5%; 97.5 %]\n",
    "\n",
    "- Считаем квантили\n",
    "\n",
    "- Смотрим, где лежит наша статистика в этом распределении\n",
    "\n",
    "Как реализуем на практике\n",
    "\n",
    "Реализуем цикл (рекомендация - повторение не менее 1000 раз), на каждом шаге которого:\n",
    "\n",
    "- создаем выборку с возвращением\n",
    "\n",
    "- считаем ее среднее\n",
    "\n",
    "- возвращаем квантили распределения средних (из цикла)\n",
    "\n",
    "- далее будем смотреть, вошел ли 0 в этот интервал"
   ]
  },
  {
   "cell_type": "code",
   "execution_count": 74,
   "id": "96c6c888",
   "metadata": {
    "ExecuteTime": {
     "end_time": "2023-11-21T17:01:08.365731Z",
     "start_time": "2023-11-21T17:01:08.359721Z"
    }
   },
   "outputs": [],
   "source": [
    "def salt_generator(salt=None):\n",
    "    import os\n",
    "    from base64 import b64encode\n",
    "    salt = os.urandom(8)\n",
    "    \n",
    "    return b64encode(salt).decode('ascii')\n",
    "\n",
    "\n",
    "def get_bootstrap_array(arr):\n",
    "    return np.random.choice(arr, replace=True, size=len(arr))\n",
    "\n",
    "\n",
    "def calc_bootstrap_mean(arr, size=1000):\n",
    "    result = np.empty(size)\n",
    "    for i in range(size):\n",
    "        result[i] = np.mean(get_bootstrap_array(arr))\n",
    "    return result"
   ]
  },
  {
   "cell_type": "code",
   "execution_count": 75,
   "id": "94fb3efe",
   "metadata": {
    "ExecuteTime": {
     "end_time": "2023-11-21T17:01:09.659590Z",
     "start_time": "2023-11-21T17:01:09.655626Z"
    }
   },
   "outputs": [],
   "source": [
    "def get_p_value(dist):\n",
    "    dist = np.array(dist)\n",
    "    x = (dist > 0).mean()\n",
    "    pvalue = min(x, 1 - x) * 2\n",
    "    return pvalue"
   ]
  },
  {
   "cell_type": "markdown",
   "id": "b2b3c20b",
   "metadata": {},
   "source": [
    "## Валидируем корректноcть (significance)\n",
    "\n",
    "Моделируем AA-test: прогоняем бутстрап критерий, не добавляя эффект к группе В. Хотим, чтобы критерий НЕ нашел различий в выборках. Если точнее, то нашел не более чем  $\\alpha$ случаях."
   ]
  },
  {
   "cell_type": "code",
   "execution_count": 83,
   "id": "7fde0684",
   "metadata": {
    "ExecuteTime": {
     "end_time": "2023-11-21T17:12:54.883187Z",
     "start_time": "2023-11-21T17:05:39.146069Z"
    }
   },
   "outputs": [
    {
     "name": "stderr",
     "output_type": "stream",
     "text": [
      "100%|██████████| 100/100 [07:15<00:00,  4.36s/it]"
     ]
    },
    {
     "name": "stdout",
     "output_type": "stream",
     "text": [
      "significance: 5.0%\n"
     ]
    },
    {
     "name": "stderr",
     "output_type": "stream",
     "text": [
      "\n"
     ]
    }
   ],
   "source": [
    "correctness = []\n",
    "values = []\n",
    "\n",
    "for i in tqdm(range(100)): # в дз используем 1000 итераций \n",
    "    \n",
    "    new_df = groups_splitter(week1.copy(), columns=['user_id', 'total_dur', 'group'], user_salt=salt_generator()).drop_duplicates()\n",
    "\n",
    "    \n",
    "    vec_a = new_df[(new_df['group'] == 'A')]['total_dur']\n",
    "    vec_b = new_df[(new_df['group'] == 'B')]['total_dur']\n",
    "    \n",
    "    #bootstrap\n",
    "    sample_a_mean = calc_bootstrap_mean(vec_a, size=1000) # на бутстрэпе считаем средние для вектора\n",
    "    sample_b_mean = calc_bootstrap_mean(vec_b, size=1000)\n",
    "    values.append(sample_a_mean - sample_b_mean)\n",
    "    \n",
    "    left_side, right_side = np.percentile(sample_a_mean - sample_b_mean, \n",
    "                                                  [100 * 0.05 / 2., 100 * (1 - 0.05 / 2.)]) # считаем 95% доверительный интервал для разницы средних\n",
    "    \n",
    "    correctness.append(not left_side <= 0 <= right_side)\n",
    "    \n",
    "    test_correctness = collections.Counter(correctness)\n",
    "    \n",
    "print(f'significance: {test_correctness[1]/(test_correctness[1] + test_correctness[0])*100}%')"
   ]
  },
  {
   "cell_type": "code",
   "execution_count": 80,
   "id": "0af64b40",
   "metadata": {
    "ExecuteTime": {
     "end_time": "2023-11-21T17:05:15.370994Z",
     "start_time": "2023-11-21T17:05:15.368000Z"
    }
   },
   "outputs": [],
   "source": [
    "p_values = [get_p_value(dist) for dist in values]"
   ]
  },
  {
   "cell_type": "code",
   "execution_count": 81,
   "id": "dcba3c9b",
   "metadata": {
    "ExecuteTime": {
     "end_time": "2023-11-21T17:05:17.162894Z",
     "start_time": "2023-11-21T17:05:16.927524Z"
    }
   },
   "outputs": [
    {
     "data": {
      "text/plain": [
       "Text(0.5, 1.0, 'Бутстреп распределение p_value')"
      ]
     },
     "execution_count": 81,
     "metadata": {},
     "output_type": "execute_result"
    },
    {
     "data": {
      "image/png": "[encoded data removed]",
      "text/plain": [
       "<Figure size 432x288 with 1 Axes>"
      ]
     },
     "metadata": {
      "needs_background": "light"
     },
     "output_type": "display_data"
    }
   ],
   "source": [
    "plt.hist(p_values, bins=10, color='purple');\n",
    "plt.title(f\"Бутстреп распределение p_value\")"
   ]
  },
  {
   "cell_type": "markdown",
   "id": "87f1e8d4",
   "metadata": {},
   "source": [
    "Давайте еще проверим критерием Колмогорова-Смирнова (о том, что получившееся распределение p_values есть равномерное распределение). Здесь нужно держать в уме, что критерий не очень мощный (помним, что мощный от 80% случаев найденных различий)"
   ]
  },
  {
   "cell_type": "code",
   "execution_count": 86,
   "id": "d57912dd",
   "metadata": {
    "ExecuteTime": {
     "end_time": "2023-11-21T17:20:02.668976Z",
     "start_time": "2023-11-21T17:20:02.648031Z"
    }
   },
   "outputs": [
    {
     "name": "stdout",
     "output_type": "stream",
     "text": [
      "p_value = 0.30673490586599106 - p_values равномерное распределение\n"
     ]
    }
   ],
   "source": [
    "stat, p_value = scipy.stats.kstest(p_values, scipy.stats.uniform(loc=0.0, scale=1.0).cdf)\n",
    "\n",
    "if p_value < 0.05:\n",
    "    print(f'p_value = {p_value} - p_values неравномерное распределение')\n",
    "else:\n",
    "    print(f'p_value = {p_value} - p_values равномерное распределение')"
   ]
  },
  {
   "cell_type": "code",
   "execution_count": null,
   "id": "5c4808fc",
   "metadata": {},
   "outputs": [],
   "source": []
  },
  {
   "cell_type": "code",
   "execution_count": null,
   "id": "467ccd3c",
   "metadata": {},
   "outputs": [],
   "source": []
  },
  {
   "cell_type": "code",
   "execution_count": null,
   "id": "3cf88df2",
   "metadata": {},
   "outputs": [],
   "source": []
  },
  {
   "cell_type": "markdown",
   "id": "c5246a11",
   "metadata": {},
   "source": [
    "# ДЗ 1:\n",
    "\n",
    "### Дизайн теста\n",
    "1) Из interactions взять данные за 2 последние недели (2021-08-09 по 2021-08-22)\n",
    "\n",
    "2) Посчитайте на этих данных корректность на бутстрепе и сравните ее с результатами за 1 неделю (посчитано на семинаре) (0.5 балла)\n",
    "\n",
    "3) На двух неделях посчитайте мощность. Для этого нужно в одну из групп докинуть эффект. Докиньте эффект в 1%, 3% и 5% и сравните полученную мощность (1.5 балла)\n",
    "\n",
    "4) Посчитайте MDE, который можно зафиксировать на 2х неделях. В качестве alpha и beta подставьте ваши вычисленные ошибки 1 и 2 рода. Учитывайте что у нас формула для MDE работает для t-test или z-test (1 балл)\n",
    "\n",
    "### A/B тест\n",
    "1) Представим что у нас прошел тест, используем те же самые данные за 2 недели\n",
    "\n",
    "2) Занулите для всех пользователей total_dur, у которых total_dur < 500. Их НЕ УБИРАЕМ, а просто обрабатываем эти значения, принимая за нулевые, но пользователей также учитываем в эксперименте (0.5 балла)\n",
    "\n",
    "3) Разбейте их самостоятельно на две равные группы, используйте функцию groups_splitter и соль = 'kiontestmodel20210805' (0.5 балла)\n",
    "\n",
    "4) Оказалось, что модель в группе В показала себя лучше, чем в группе А на 2.5%, причем эффект распространился неравномерно и преимущественно на 10% самых смотрящих пользователей, докиньте такой эффект самостоятельно. Нужно метрику total_dur увеличить на 2.5% для 10% пользователей с самым продолжительным смотрением. (1 балл)\n",
    "\n",
    "5) Посчитайте результат такого теста и сделайте выводы (2 балла)\n",
    "\n",
    "Еще 1 балл можно получить за хорошее и подробное объяснение каждого шага "
   ]
  },
  {
   "cell_type": "markdown",
   "id": "21a4ee11",
   "metadata": {},
   "source": [
    "СОВЕТ: Т.к бутстрэп считается долго, то для дз отлаживаем код на малом количестве итераций, а результаты уже показываем на 1000+"
   ]
  },
  {
   "cell_type": "code",
   "execution_count": null,
   "id": "ea160555",
   "metadata": {},
   "outputs": [],
   "source": []
  }
 ],
 "metadata": {
  "kernelspec": {
   "display_name": "Python 3 (ipykernel)",
   "language": "python",
   "name": "python3"
  },
  "language_info": {
   "codemirror_mode": {
    "name": "ipython",
    "version": 3
   },
   "file_extension": ".py",
   "mimetype": "text/x-python",
   "name": "python",
   "nbconvert_exporter": "python",
   "pygments_lexer": "ipython3",
   "version": "3.10.8"
  }
 },
 "nbformat": 4,
 "nbformat_minor": 5
}
